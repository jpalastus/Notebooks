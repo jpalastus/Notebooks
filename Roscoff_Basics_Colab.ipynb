{
  "cells": [
    {
      "cell_type": "markdown",
      "metadata": {
        "id": "view-in-github",
        "colab_type": "text"
      },
      "source": [
        "<a href=\"https://colab.research.google.com/github/jpalastus/Notebooks/blob/main/Roscoff_Basics_Colab.ipynb\" target=\"_parent\"><img src=\"https://colab.research.google.com/assets/colab-badge.svg\" alt=\"Open In Colab\"/></a>"
      ]
    },
    {
      "cell_type": "markdown",
      "source": [
        "#How to Build Machine Learning Exchange and Correlation Functionals for DFT\n",
        "\n",
        "Made by João Paulo Almeida de Mendonça\n"
      ],
      "metadata": {
        "id": "RndIZzmhHqvT"
      }
    },
    {
      "cell_type": "markdown",
      "metadata": {
        "id": "KquPEECNL1K8"
      },
      "source": [
        "## Basics of PYSCF\n",
        "\n",
        "For people that have some experience with quantum chemistry nomenclature and softwares, the main obstacle in PySCF is that its structured to be \"python friendly\". The philosophy behind PySCF is that you define a molecule (or cell) and a method (\"mean-field\" of \"post-mean-field\") object, that combined can be used to run the SCF itself.  \n",
        "\n",
        "Exemple - H$_2$O, 3-611G, PBE\n"
      ]
    },
    {
      "cell_type": "code",
      "execution_count": 1,
      "metadata": {
        "colab": {
          "base_uri": "https://localhost:8080/"
        },
        "id": "tquuSt8lYxWK",
        "outputId": "a8865b2c-9c93-4b5f-a3c2-cfcfb9a0119f"
      },
      "outputs": [
        {
          "output_type": "stream",
          "name": "stdout",
          "text": [
            "Looking in indexes: https://pypi.org/simple, https://us-python.pkg.dev/colab-wheels/public/simple/\n",
            "Requirement already satisfied: pyscf in /usr/local/lib/python3.9/dist-packages (2.2.1)\n",
            "Requirement already satisfied: scipy!=1.5.0,!=1.5.1 in /usr/local/lib/python3.9/dist-packages (from pyscf) (1.10.1)\n",
            "Requirement already satisfied: numpy!=1.16,!=1.17,>=1.13 in /usr/local/lib/python3.9/dist-packages (from pyscf) (1.22.4)\n",
            "Requirement already satisfied: h5py>=2.7 in /usr/local/lib/python3.9/dist-packages (from pyscf) (3.8.0)\n"
          ]
        }
      ],
      "source": [
        "!pip install --prefer-binary --upgrade pyscf"
      ]
    },
    {
      "cell_type": "code",
      "execution_count": 2,
      "metadata": {
        "colab": {
          "base_uri": "https://localhost:8080/"
        },
        "id": "pVkUFdl79P2r",
        "outputId": "32601a51-1d36-4075-f5f5-fd862a4c7d43"
      },
      "outputs": [
        {
          "output_type": "execute_result",
          "data": {
            "text/plain": [
              "-76.0093322403299"
            ]
          },
          "metadata": {},
          "execution_count": 2
        }
      ],
      "source": [
        "##### A very straightforward exemple with minimal information\n",
        "from pyscf import gto\n",
        "from pyscf import scf\n",
        "\n",
        "#Basic Molecule geometry and proprieties parsing. More features are explained in https://pyscf.org/user/gto.html\n",
        "mol = gto.M(\n",
        "    atom = '''\n",
        "    O  0.000   0.000   0.000\n",
        "    H  0.000  -0.757   0.587\n",
        "    H  0.000   0.757   0.587 ''',\n",
        "    basis = '6-311g')\n",
        "\n",
        "#Exemple of a basic restricted Hartree--Fock calculation.\n",
        "#mf.kernel returns the total energy, nothing else should be printed with mf.verbose = 0\n",
        "mf = scf.RHF(mol)\n",
        "mf.verbose = 0\n",
        "mf.kernel()\n"
      ]
    },
    {
      "cell_type": "code",
      "source": [
        "##### A similar exemple, now with few keywords added to demonstrate PySCF functionalities \n",
        "from pyscf import dft,gto,scf\n",
        "\n",
        "#Molecule Definition\n",
        "mol = gto.M(\n",
        "    atom = '''\n",
        "    O  0.000   0.000   0.000\n",
        "    H  0.000  -0.757   0.587\n",
        "    H  0.000   0.757   0.587 ''',\n",
        "    charge= 0,                   # -1 = one extra electron\n",
        "    spin=0,                      # Number of unpared electrons (same as 2S) \n",
        "    output='output.out',         # Direct output from this molecule to a file \n",
        "    basis = '6-311g'             # Basis set used on the SCF process\n",
        "    )\n",
        "\n",
        "\n",
        "#Same molecule, but now with a diferent method, unrestricted DFT (PBE).\n",
        "mf = scf.UKS(mol).newton()        # .newton() activates second-order self-consistent field (SOSCF)\n",
        "mf = scf.addons.frac_occ(mf)      # Allow fractional orbital ocupation to help convergence.\n",
        "\n",
        "mf.xc = 'PBE'                     # Functional PBE. Any functional in XCLib can be used. \n",
        "mf.verbose = 4                    # Defines verbosity level. 0 = no output\n",
        "mf.conv_tol=1e-10                 # Energy convergence criteria, in Eh\n",
        "mf.max_cycle = 100                # Maximun allowed number of SCF cycles\n",
        "\n",
        "\n",
        "mf.chkfile = 'chkpoint.dat'       # Checkpoint file to restart calculations\n",
        "mf.init_guess = 'vsap'            # Strategy used for initial density guess\n",
        "#mf.init_guess = 'chkpoint.dat'   # Loading old ckeckpoint file\n",
        "\n",
        "\n",
        "#Runs the SCF\n",
        "mf.kernel()\n",
        "\n",
        "#Analyze the given SCF object: \n",
        "#    print orbital energies, occupancies; \n",
        "#    print orbital coefficients; \n",
        "#    Mulliken population analysis; \n",
        "#    Diople moment.\n",
        "results=mf.analyze()"
      ],
      "metadata": {
        "colab": {
          "base_uri": "https://localhost:8080/"
        },
        "id": "jez1OBST8uFF",
        "outputId": "a6a5b4dd-d27e-410e-b04c-18bbd794765d"
      },
      "execution_count": 3,
      "outputs": [
        {
          "output_type": "stream",
          "name": "stdout",
          "text": [
            "output file: output.out\n"
          ]
        },
        {
          "output_type": "stream",
          "name": "stderr",
          "text": [
            "Overwritten attributes  get_occ  of <class 'pyscf.soscf.newton_ah.newton.<locals>.SecondOrderUHF'>\n"
          ]
        }
      ]
    },
    {
      "cell_type": "markdown",
      "metadata": {
        "id": "EQiVF_IuGK48"
      },
      "source": [
        "Now, you can try to compute a particular system that you like. Maybe try to run something that has charges and different spin states. Maybe try to define a HF calculation? Or a small coupled cluster one? Check https://pyscf.org/quickstart.html or https://pyscf.org/user.html for more informations on how to do it.\n",
        "\n",
        "Be aware that maybe you will need to play first with low  values of mf.conv_tol and mf.max_cycle, to be able to do it in the tutorial time.  "
      ]
    },
    {
      "cell_type": "code",
      "execution_count": 4,
      "metadata": {
        "id": "ajnohUbdGKk7"
      },
      "outputs": [],
      "source": [
        "from pyscf import dft,gto,scf\n",
        "\n",
        "#mol = gto.M(\n",
        "#    atom = '''\n",
        "#    XX  0.000   0.000   0.000''',\n",
        "#    basis = '...'\n",
        "#    )\n",
        "\n",
        "#mf = ...\n",
        "\n",
        "\n",
        "#mf.kernel()"
      ]
    },
    {
      "cell_type": "markdown",
      "metadata": {
        "id": "97XAXI9hMb_-"
      },
      "source": [
        "Lets do one more step before egoing to ML. This is how we use PySCF to run DFT calculations with a customized functional, hard-coded.\n",
        "\n",
        "`eval_xc` should be built to return the list [$𝜀_{XC}$,$v_{XC}$,$f_{XC}$,$k_{XC}$], i.e., $𝜀_{XC}$ and its first, second, and third derivatives respectively. In particular, $v_{XC}=(\\frac{d𝜀_{XC}}{dρ},\\frac{d𝜀_{XC}}{dγ},\\frac{d𝜀_{XC}}{d\\nabla^2ρ},\\frac{d𝜀_{XC}}{dτ})$. This shape ensures the compatibility of our functional with the rest of PySCF.\n",
        "\n",
        "To show how to customize a functional, we define a new functional that has the PBE correlation + PW86 exchange (for PW86 see https://doi.org/10.1103/physrevb.33.8800). Specifically, the PW86 exchange is here defined in terms of the reduced density gradients using the published parametrization by Perdew."
      ]
    },
    {
      "cell_type": "code",
      "execution_count": 5,
      "metadata": {
        "colab": {
          "base_uri": "https://localhost:8080/"
        },
        "id": "YyWDqdoiAlfJ",
        "outputId": "377dc26c-02a8-44dc-ee48-b77ac7873d8c"
      },
      "outputs": [
        {
          "output_type": "execute_result",
          "data": {
            "text/plain": [
              "-63.62929999851079"
            ]
          },
          "metadata": {},
          "execution_count": 5
        }
      ],
      "source": [
        "from pyscf import dft\n",
        "\n",
        "def eval_xc(xc_code, rho, spin=0, relativity=0, deriv=1, omega=None, verbose=None):\n",
        "    pi=3.1415926535897932384626433832795028841971\n",
        "    third=1.0/3.0\n",
        "    # A fictitious XC functional\n",
        "    # xc_code = \"LDA\", \"GGA\", \"meta-GGA\"\n",
        "    # SHAPE OF rho:      LDA - 1D array of shape (N) to store electron density, N being the number of integration grid points \n",
        "    #                    GGA - 2D array of shape (4,N) to store density and \"density derivatives\" for x,y,z components\n",
        "    #                    meta-GGA - can be a (6,N) (with_lapl=True) array where last two rows are \\nabla^2 rho and tau = 1/2(\\nabla f)^2\n",
        "    rho0, dx, dy, dz = rho[:4]\n",
        "    gamma = (dx**2 + dy**2 + dz**2)\n",
        "    \n",
        "    kf=(3*pi**2)**third*(rho0+1e-6)**third\n",
        "    s=(gamma)**0.5/(2*kf*(rho0+1e-6))\n",
        "    a=0.0864\n",
        "    b=14.0\n",
        "    c=0.2\n",
        "    m=1.0/15.0\n",
        "    par=(1.0+(a/m)*s**2+b*s**4+c*s**6)\n",
        "    Fx=par**m\n",
        "    chainrule=m*par**(m-1.0) * ((2.0*a/m)*s+4*b*s**3+6*c*s**5)\n",
        "    Fvrho   = chainrule * (4.0/3.0)*s/(rho0+1e-6)\n",
        "    #Fvgamma = chainrule *    0.5   *s/(gamma+1e-6)\n",
        "\n",
        "    # Getting original PBE Correlation and LDA Exchange\n",
        "    pbe_c = dft.libxc.eval_xc(',pbe', rho, spin, relativity, deriv, verbose)   # 'pbe,pbe' is a explicit way of choosing that both exchange\n",
        "    lda_x = dft.libxc.eval_xc('lda,',rho0, spin, relativity, deriv, verbose)   # and correlation will be done in the same way as 'PBE'.\n",
        "                                                                               # 'pbe,' or ',pbe' can be used to get the X and C separetly.\n",
        "                                                                               # The sintax is \"exchange,correlation\"\n",
        "      \n",
        "    \n",
        "\n",
        "    # Mixing PBE and the fictitious functional\n",
        "    exc = pbe_c[0] + Fx*lda_x[0]\n",
        "    vrho = pbe_c[1][0] + Fvrho*lda_x[1][0]\n",
        "    vgamma = pbe_c[1][1]\n",
        "    vlapl = None\n",
        "    vtau = None\n",
        "    vxc = (vrho, vgamma, vlapl, vtau)\n",
        "    fxc = None  # 2nd order functional derivative\n",
        "    kxc = None  # 3rd order functional derivative\n",
        "\n",
        "    return exc, vxc, fxc, kxc\n",
        "\n",
        "\n",
        "mol = gto.M(\n",
        "    atom = '''\n",
        "    O  0.000   0.000   0.000\n",
        "    H  0.000  -0.757   0.587\n",
        "    H  0.000   0.757   0.587 ''',\n",
        "    basis = '6-311g')\n",
        "\n",
        "mf = dft.RKS(mol)\n",
        "mf = mf.define_xc_(eval_xc, 'GGA', hyb=None)  # hyb is the amount of exact exchange to be used (HYBRID FUNCTIONAL)\n",
        "                                              # 'GGA' is the xctype, and defines the shape of rho passed to eval_xc\n",
        "mf.verbose = 0\n",
        "mf.guess='huckel'\n",
        "mf.kernel()\n"
      ]
    },
    {
      "cell_type": "markdown",
      "metadata": {
        "id": "kDKjfx8DNTY_"
      },
      "source": [
        "---\n",
        "## Crating a basic multilayer perceptron with TensorFlow\n",
        "\n",
        "\n",
        "```   \n",
        "          h - - - - h\n",
        "       /  h - - - - h  \\\n",
        "     /    h - - - - h    \\\n",
        "   /      h - - - - h      \\\n",
        "i         h - - - - h        \\\n",
        "                               \\\n",
        "i         .         .            \\\n",
        "          .         .              o\n",
        "i         .         .            /\n",
        "                               /\n",
        "i         h - - - - h        /\n",
        "   \\      h - - - - h      /\n",
        "     \\    h - - - - h    /\n",
        "       \\  h - - - - h  /\n",
        "          h - - - - h\n",
        "```\n",
        "- 4 input neurons\n",
        "- 100 neurons in hidden layer 1\n",
        "- 100 neurons in hidden layer 2\n",
        "- 1 output neuron"
      ]
    },
    {
      "cell_type": "code",
      "execution_count": 6,
      "metadata": {
        "colab": {
          "base_uri": "https://localhost:8080/"
        },
        "id": "RSSKCeWRNHpI",
        "outputId": "f61f4ce9-af60-4b19-f37e-6b9423915e1c"
      },
      "outputs": [
        {
          "output_type": "stream",
          "name": "stdout",
          "text": [
            "Looking in indexes: https://pypi.org/simple, https://us-python.pkg.dev/colab-wheels/public/simple/\n",
            "Requirement already satisfied: tensorflow in /usr/local/lib/python3.9/dist-packages (2.12.0)\n",
            "Requirement already satisfied: gast<=0.4.0,>=0.2.1 in /usr/local/lib/python3.9/dist-packages (from tensorflow) (0.4.0)\n",
            "Requirement already satisfied: setuptools in /usr/local/lib/python3.9/dist-packages (from tensorflow) (67.6.1)\n",
            "Requirement already satisfied: six>=1.12.0 in /usr/local/lib/python3.9/dist-packages (from tensorflow) (1.16.0)\n",
            "Requirement already satisfied: astunparse>=1.6.0 in /usr/local/lib/python3.9/dist-packages (from tensorflow) (1.6.3)\n",
            "Requirement already satisfied: wrapt<1.15,>=1.11.0 in /usr/local/lib/python3.9/dist-packages (from tensorflow) (1.14.1)\n",
            "Requirement already satisfied: tensorboard<2.13,>=2.12 in /usr/local/lib/python3.9/dist-packages (from tensorflow) (2.12.1)\n",
            "Requirement already satisfied: opt-einsum>=2.3.2 in /usr/local/lib/python3.9/dist-packages (from tensorflow) (3.3.0)\n",
            "Requirement already satisfied: numpy<1.24,>=1.22 in /usr/local/lib/python3.9/dist-packages (from tensorflow) (1.22.4)\n",
            "Requirement already satisfied: tensorflow-io-gcs-filesystem>=0.23.1 in /usr/local/lib/python3.9/dist-packages (from tensorflow) (0.32.0)\n",
            "Requirement already satisfied: termcolor>=1.1.0 in /usr/local/lib/python3.9/dist-packages (from tensorflow) (2.2.0)\n",
            "Requirement already satisfied: google-pasta>=0.1.1 in /usr/local/lib/python3.9/dist-packages (from tensorflow) (0.2.0)\n",
            "Requirement already satisfied: libclang>=13.0.0 in /usr/local/lib/python3.9/dist-packages (from tensorflow) (16.0.0)\n",
            "Requirement already satisfied: packaging in /usr/local/lib/python3.9/dist-packages (from tensorflow) (23.0)\n",
            "Requirement already satisfied: flatbuffers>=2.0 in /usr/local/lib/python3.9/dist-packages (from tensorflow) (23.3.3)\n",
            "Requirement already satisfied: jax>=0.3.15 in /usr/local/lib/python3.9/dist-packages (from tensorflow) (0.4.8)\n",
            "Requirement already satisfied: absl-py>=1.0.0 in /usr/local/lib/python3.9/dist-packages (from tensorflow) (1.4.0)\n",
            "Requirement already satisfied: keras<2.13,>=2.12.0 in /usr/local/lib/python3.9/dist-packages (from tensorflow) (2.12.0)\n",
            "Requirement already satisfied: typing-extensions>=3.6.6 in /usr/local/lib/python3.9/dist-packages (from tensorflow) (4.5.0)\n",
            "Requirement already satisfied: h5py>=2.9.0 in /usr/local/lib/python3.9/dist-packages (from tensorflow) (3.8.0)\n",
            "Requirement already satisfied: protobuf!=4.21.0,!=4.21.1,!=4.21.2,!=4.21.3,!=4.21.4,!=4.21.5,<5.0.0dev,>=3.20.3 in /usr/local/lib/python3.9/dist-packages (from tensorflow) (3.20.3)\n",
            "Requirement already satisfied: grpcio<2.0,>=1.24.3 in /usr/local/lib/python3.9/dist-packages (from tensorflow) (1.53.0)\n",
            "Requirement already satisfied: tensorflow-estimator<2.13,>=2.12.0 in /usr/local/lib/python3.9/dist-packages (from tensorflow) (2.12.0)\n",
            "Requirement already satisfied: wheel<1.0,>=0.23.0 in /usr/local/lib/python3.9/dist-packages (from astunparse>=1.6.0->tensorflow) (0.40.0)\n",
            "Requirement already satisfied: scipy>=1.7 in /usr/local/lib/python3.9/dist-packages (from jax>=0.3.15->tensorflow) (1.10.1)\n",
            "Requirement already satisfied: ml-dtypes>=0.0.3 in /usr/local/lib/python3.9/dist-packages (from jax>=0.3.15->tensorflow) (0.0.4)\n",
            "Requirement already satisfied: google-auth-oauthlib<1.1,>=0.5 in /usr/local/lib/python3.9/dist-packages (from tensorboard<2.13,>=2.12->tensorflow) (1.0.0)\n",
            "Requirement already satisfied: tensorboard-data-server<0.8.0,>=0.7.0 in /usr/local/lib/python3.9/dist-packages (from tensorboard<2.13,>=2.12->tensorflow) (0.7.0)\n",
            "Requirement already satisfied: tensorboard-plugin-wit>=1.6.0 in /usr/local/lib/python3.9/dist-packages (from tensorboard<2.13,>=2.12->tensorflow) (1.8.1)\n",
            "Requirement already satisfied: google-auth<3,>=1.6.3 in /usr/local/lib/python3.9/dist-packages (from tensorboard<2.13,>=2.12->tensorflow) (2.17.2)\n",
            "Requirement already satisfied: requests<3,>=2.21.0 in /usr/local/lib/python3.9/dist-packages (from tensorboard<2.13,>=2.12->tensorflow) (2.27.1)\n",
            "Requirement already satisfied: werkzeug>=1.0.1 in /usr/local/lib/python3.9/dist-packages (from tensorboard<2.13,>=2.12->tensorflow) (2.2.3)\n",
            "Requirement already satisfied: markdown>=2.6.8 in /usr/local/lib/python3.9/dist-packages (from tensorboard<2.13,>=2.12->tensorflow) (3.4.3)\n",
            "Requirement already satisfied: rsa<5,>=3.1.4 in /usr/local/lib/python3.9/dist-packages (from google-auth<3,>=1.6.3->tensorboard<2.13,>=2.12->tensorflow) (4.9)\n",
            "Requirement already satisfied: pyasn1-modules>=0.2.1 in /usr/local/lib/python3.9/dist-packages (from google-auth<3,>=1.6.3->tensorboard<2.13,>=2.12->tensorflow) (0.2.8)\n",
            "Requirement already satisfied: cachetools<6.0,>=2.0.0 in /usr/local/lib/python3.9/dist-packages (from google-auth<3,>=1.6.3->tensorboard<2.13,>=2.12->tensorflow) (5.3.0)\n",
            "Requirement already satisfied: requests-oauthlib>=0.7.0 in /usr/local/lib/python3.9/dist-packages (from google-auth-oauthlib<1.1,>=0.5->tensorboard<2.13,>=2.12->tensorflow) (1.3.1)\n",
            "Requirement already satisfied: importlib-metadata>=4.4 in /usr/local/lib/python3.9/dist-packages (from markdown>=2.6.8->tensorboard<2.13,>=2.12->tensorflow) (6.3.0)\n",
            "Requirement already satisfied: urllib3<1.27,>=1.21.1 in /usr/local/lib/python3.9/dist-packages (from requests<3,>=2.21.0->tensorboard<2.13,>=2.12->tensorflow) (1.26.15)\n",
            "Requirement already satisfied: certifi>=2017.4.17 in /usr/local/lib/python3.9/dist-packages (from requests<3,>=2.21.0->tensorboard<2.13,>=2.12->tensorflow) (2022.12.7)\n",
            "Requirement already satisfied: idna<4,>=2.5 in /usr/local/lib/python3.9/dist-packages (from requests<3,>=2.21.0->tensorboard<2.13,>=2.12->tensorflow) (3.4)\n",
            "Requirement already satisfied: charset-normalizer~=2.0.0 in /usr/local/lib/python3.9/dist-packages (from requests<3,>=2.21.0->tensorboard<2.13,>=2.12->tensorflow) (2.0.12)\n",
            "Requirement already satisfied: MarkupSafe>=2.1.1 in /usr/local/lib/python3.9/dist-packages (from werkzeug>=1.0.1->tensorboard<2.13,>=2.12->tensorflow) (2.1.2)\n",
            "Requirement already satisfied: zipp>=0.5 in /usr/local/lib/python3.9/dist-packages (from importlib-metadata>=4.4->markdown>=2.6.8->tensorboard<2.13,>=2.12->tensorflow) (3.15.0)\n",
            "Requirement already satisfied: pyasn1<0.5.0,>=0.4.6 in /usr/local/lib/python3.9/dist-packages (from pyasn1-modules>=0.2.1->google-auth<3,>=1.6.3->tensorboard<2.13,>=2.12->tensorflow) (0.4.8)\n",
            "Requirement already satisfied: oauthlib>=3.0.0 in /usr/local/lib/python3.9/dist-packages (from requests-oauthlib>=0.7.0->google-auth-oauthlib<1.1,>=0.5->tensorboard<2.13,>=2.12->tensorflow) (3.2.2)\n"
          ]
        }
      ],
      "source": [
        "!pip install tensorflow"
      ]
    },
    {
      "cell_type": "code",
      "execution_count": 7,
      "metadata": {
        "colab": {
          "base_uri": "https://localhost:8080/"
        },
        "id": "yeRV5JzQN10j",
        "outputId": "4617f6da-8558-4c0d-f966-a7a78e553d9f"
      },
      "outputs": [
        {
          "output_type": "stream",
          "name": "stdout",
          "text": [
            "[[  27.836136  161.95569  -235.23026    50.34117 ]] \t [[36.681465]]\n",
            "[[-116.28585    19.898941  102.357445 -147.37053 ]] \t [[12.582874]]\n",
            "[[ -85.94357  -111.825005  -82.66036    97.3646  ]] \t [[14.875381]]\n",
            "[[-16.733309 -44.473415 -21.78306  -28.272625]] \t [[5.519792]]\n",
            "[[ 97.51344  110.976555  63.563072  64.936485]] \t [[11.408333]]\n",
            "[[-116.38711    32.506428 -149.6426    111.37475 ]] \t [[26.228237]]\n",
            "[[   5.9918804 -120.75486     96.84684    -25.376839 ]] \t [[6.361894]]\n",
            "[[ 37.946053 -83.51942    8.191587  18.320425]] \t [[8.495997]]\n",
            "[[  69.72938  -18.49657 -247.31412  199.22308]] \t [[43.21147]]\n",
            "[[ 91.70364   72.89717  -17.292538 -48.533764]] \t [[6.9329853]]\n"
          ]
        }
      ],
      "source": [
        "import tensorflow as tf\n",
        "\n",
        "def nn_model(x_input, W1, b1, W2, b2, W3, b3):\n",
        "    x = tf.add(tf.matmul(tf.cast(x_input, tf.float32), W1), b1)      #\n",
        "    x = tf.nn.relu(x)                                                #\n",
        "    x = tf.add(tf.matmul(tf.cast(x, tf.float32), W2), b2)            # Bulding a multilayer perseptron using tf functions.\n",
        "    x = tf.nn.relu(x)                                                #  - add and matmul corresponde to basic matrix addition and multiplication\n",
        "    x_output = tf.add(tf.matmul(x, W3), b3)                          #  - nn.relu is a build in implementation of the activation function rELU(x)\n",
        "    return x_output                                                  #\n",
        "\n",
        "\n",
        "# weights connecting the input to the 1st hidden layer\n",
        "W1 = tf.random.normal([4, 100], stddev=0.1)\n",
        "b1 = tf.random.normal([100])\n",
        "# weights connecting the hidden layers \n",
        "W2 = tf.random.normal([100, 100], stddev=0.1)\n",
        "b2 = tf.random.normal([100])\n",
        "# weights connecting the 2nd hidden layer to the output layer\n",
        "W3 = tf.random.normal([100, 1], stddev=0.1)\n",
        "b3 = tf.random.normal([1])\n",
        "\n",
        "#Evaluating the ANN in randon inputs, to showcase its usage. \n",
        "for i in range(10):\n",
        "  input=tf.random.normal([1,4], stddev=100.0)\n",
        "  print(input.numpy(),\"\\t\",nn_model(input,W1, b1, W2, b2, W3, b3).numpy())"
      ]
    },
    {
      "cell_type": "markdown",
      "metadata": {
        "id": "RxYvtuy5VSZ9"
      },
      "source": [
        "\n",
        "\n",
        "\n",
        "---\n",
        "\n",
        "## Using a multilayer perceptron as functional\n",
        "\n",
        "> Indented block\n",
        "\n",
        "\n",
        "\n",
        "Here, we do a simple exemple of using $𝜀_{XC}=F_{XC}*𝜀_{XC}^{PBE}$, where $F_{XC}$ is the output of a multilayer perceptron. The inputs are the values of density (ρ) and the values of the gradients (γ=|∇ρ|), as the standard PBE.\n",
        "\n",
        "\n",
        "```   \n",
        "          h\n",
        "       /  h  \\\n",
        "     /    h    \\\n",
        "   /      h      \\\n",
        "ρ         h        \\\n",
        "                     Fxc\n",
        "γ         h        /\n",
        "   \\      h      /\n",
        "     \\    h    /\n",
        "       \\  h  /\n",
        "          h\n",
        "```\n",
        "\n"
      ]
    },
    {
      "cell_type": "code",
      "execution_count": 8,
      "metadata": {
        "colab": {
          "base_uri": "https://localhost:8080/"
        },
        "id": "Vz6xNhmYVRPU",
        "outputId": "3125c825-6aef-40b6-dcad-1dadee12efcc"
      },
      "outputs": [
        {
          "output_type": "stream",
          "name": "stdout",
          "text": [
            "\n",
            "\n",
            "******** <class 'pyscf.dft.rks.RKS'> ********\n",
            "method = RKS\n",
            "initial guess = minao\n",
            "damping factor = 0\n",
            "level_shift factor = 0\n",
            "DIIS = <class 'pyscf.scf.diis.CDIIS'>\n",
            "diis_start_cycle = 1\n",
            "diis_space = 8\n",
            "SCF conv_tol = 1e-06\n",
            "SCF conv_tol_grad = None\n",
            "SCF max_cycles = 50\n",
            "direct_scf = True\n",
            "direct_scf_tol = 1e-13\n",
            "chkfile to save SCF result = /content/tmpntaoy7gb\n",
            "max_memory 4000 MB (current use 574 MB)\n",
            "XC library pyscf.dft.libxc version 6.1.0\n",
            "    S. Lehtola, C. Steigemann, M. J.T. Oliveira, and M. A.L. Marques.,  SoftwareX 7, 1–5 (2018)\n",
            "XC functionals = LDA,VWN\n",
            "    P. A. M. Dirac.,  Math. Proc. Cambridge Philos. Soc. 26, 376 (1930)\n",
            "    F. Bloch.,  Z. Phys. 57, 545 (1929)\n",
            "    S. H. Vosko, L. Wilk, and M. Nusair.,  Can. J. Phys. 58, 1200 (1980)\n",
            "small_rho_cutoff = 1e-07\n",
            "Set gradient conv threshold to 0.001\n",
            "    CPU time for setting up grids      0.19 sec, wall time      0.17 sec\n",
            "nelec by numeric integration = 9.99145148631681\n",
            "    CPU time for vxc     17.86 sec, wall time     26.27 sec\n",
            "E1 = -121.69177431928165  Ecoul = 45.29044526257856  Exc = -19.443573146619844\n",
            "init E= -86.6566437855768\n",
            "cond(S) = 100.70804008167421\n",
            "    CPU time for initialize scf     18.24 sec, wall time     26.66 sec\n",
            "  HOMO = -0.971001090121901  LUMO = -0.291889148140905\n",
            "  mo_energy =\n",
            "[-23.81568947  -1.7605048   -1.12560038  -1.04203519  -0.97100109\n",
            "  -0.29188915  -0.23244393   0.10801657   0.11372077   0.2986844\n",
            "   0.31419417   0.4587363    0.60493397   1.70577528   1.76539977\n",
            "   3.70303549   3.81823256   3.94203698  42.29360965]\n",
            "nelec by numeric integration = 9.999999910912448\n",
            "    CPU time for vxc     16.05 sec, wall time     20.24 sec\n",
            "E1 = -130.21847620258774  Ecoul = 57.52311348320774  Exc = -24.913880748987527\n",
            "cycle= 1 E= -88.4209850506214  delta_E= -1.76  |g|= 2.94  |ddm|= 1.57\n",
            "    CPU time for cycle= 1     16.11 sec, wall time     20.31 sec\n",
            "  HOMO = -0.11262678179802  LUMO = -0.00585466446000983\n",
            "  mo_energy =\n",
            "[-2.24590443e+01 -9.84400696e-01 -5.01059250e-01 -2.52849699e-01\n",
            " -1.12626782e-01 -5.85466446e-03  1.02953973e-01  3.08121145e-01\n",
            "  3.09894612e-01  8.24584419e-01  8.36964294e-01  9.38634584e-01\n",
            "  1.03049308e+00  1.87730607e+00  1.92920967e+00  4.88663188e+00\n",
            "  4.98400617e+00  5.09461243e+00  4.26494627e+01]\n",
            "nelec by numeric integration = 9.99999990555146\n",
            "    CPU time for vxc     16.31 sec, wall time     19.72 sec\n",
            "E1 = -117.66585015574671  Ecoul = 43.041798724706695  Exc = -22.876902892816684\n",
            "cycle= 2 E= -88.3126959061106  delta_E= 0.108  |g|= 2.47  |ddm|= 2.28\n",
            "    CPU time for cycle= 2     16.36 sec, wall time     19.76 sec\n",
            "  HOMO = -0.741798322095879  LUMO = -0.211978259922371\n",
            "  mo_energy =\n",
            "[-24.23449186  -1.59762548  -0.92945068  -0.81993098  -0.74179832\n",
            "  -0.21197826  -0.13072357   0.1634874    0.17301932   0.40464832\n",
            "   0.4240722    0.57348846   0.68731256   1.76196323   1.81991963\n",
            "   3.99038442   4.1075505    4.229901    40.85344943]\n",
            "nelec by numeric integration = 9.999999916486548\n",
            "    CPU time for vxc     18.00 sec, wall time     19.22 sec\n",
            "E1 = -127.90179924117815  Ecoul = 54.856464614920974  Exc = -25.550477838298182\n",
            "cycle= 3 E= -89.4075540468093  delta_E= -1.09  |g|= 1.08  |ddm|= 2.06\n",
            "    CPU time for cycle= 3     18.11 sec, wall time     19.30 sec\n",
            "  HOMO = -0.538222529499367  LUMO = -0.16273058273593\n",
            "  mo_energy =\n",
            "[-24.08408174  -1.42179139  -0.77984486  -0.63404135  -0.53822253\n",
            "  -0.16273058  -0.06680022   0.19305661   0.20322468   0.51683382\n",
            "   0.53715934   0.67023928   0.76898538   1.78660764   1.843594\n",
            "   4.24337301   4.35426071   4.47357667  40.72800136]\n",
            "nelec by numeric integration = 9.999999908064511\n",
            "    CPU time for vxc     14.95 sec, wall time     15.77 sec\n",
            "E1 = -125.35299589899248  Ecoul = 51.69905532403814  Exc = -25.26629443117982\n",
            "cycle= 4 E= -89.731976588388  delta_E= -0.324  |g|= 0.0652  |ddm|= 0.422\n",
            "    CPU time for cycle= 4     15.01 sec, wall time     15.83 sec\n",
            "  HOMO = -0.520626481405533  LUMO = -0.15823603514607\n",
            "  mo_energy =\n",
            "[-24.05553755  -1.40526066  -0.76656817  -0.61774893  -0.52062648\n",
            "  -0.15823604  -0.06157965   0.19574964   0.20583364   0.52903932\n",
            "   0.54935126   0.68040407   0.77828563   1.79250175   1.84945783\n",
            "   4.26456759   4.3755865    4.49542541  40.75371505]\n",
            "nelec by numeric integration = 9.99999990604522\n",
            "    CPU time for vxc     12.44 sec, wall time     12.45 sec\n",
            "E1 = -125.15152638715696  Ecoul = 51.45160825340859  Exc = -25.22278357452427\n",
            "cycle= 5 E= -89.7344432905265  delta_E= -0.00247  |g|= 0.00268  |ddm|= 0.0415\n",
            "    CPU time for cycle= 5     12.56 sec, wall time     12.54 sec\n",
            "  HOMO = -0.52103053512396  LUMO = -0.158217614502336\n",
            "  mo_energy =\n",
            "[-24.05551021  -1.40541321  -0.76655868  -0.61819935  -0.52103054\n",
            "  -0.15821761  -0.06166916   0.1956706    0.20592818   0.52886933\n",
            "   0.54895296   0.68019598   0.77833952   1.79303221   1.84993634\n",
            "   4.26425949   4.37539655   4.49533925  40.75339397]\n",
            "nelec by numeric integration = 9.999999906259262\n",
            "    CPU time for vxc     12.48 sec, wall time     12.41 sec\n",
            "E1 = -125.15904502762021  Ecoul = 51.4609434939799  Exc = -25.22470209843424\n",
            "cycle= 6 E= -89.7345452143284  delta_E= -0.000102  |g|= 0.00014  |ddm|= 0.00169\n",
            "    CPU time for cycle= 6     12.62 sec, wall time     12.50 sec\n",
            "  HOMO = -0.521034419588643  LUMO = -0.158257201375971\n",
            "  mo_energy =\n",
            "[-24.05548693  -1.40544053  -0.76658855  -0.61819627  -0.52103442\n",
            "  -0.1582572   -0.06170453   0.1956414    0.20589835   0.52886772\n",
            "   0.54896426   0.68018259   0.77831586   1.7930019    1.84990356\n",
            "   4.26425724   4.37539142   4.49533255  40.75343162]\n",
            "nelec by numeric integration = 9.999999906252667\n",
            "    CPU time for vxc     12.37 sec, wall time     12.37 sec\n",
            "E1 = -125.1586996255904  Ecoul = 51.46051191612655  Exc = -25.224606644183062\n",
            "cycle= 7 E= -89.7345359359008  delta_E= 9.28e-06  |g|= 7.17e-06  |ddm|= 0.000135\n",
            "    CPU time for cycle= 7     12.44 sec, wall time     12.42 sec\n",
            "  HOMO = -0.521033321838494  LUMO = -0.158255993237356\n",
            "  mo_energy =\n",
            "[-24.05548833  -1.40543839  -0.76658701  -0.61819662  -0.52103332\n",
            "  -0.15825599  -0.06170396   0.19564254   0.2059       0.528869\n",
            "   0.54896387   0.68018319   0.77831799   1.7930046    1.84990604\n",
            "   4.2642581    4.37539233   4.49533363  40.75343017]\n",
            "nelec by numeric integration = 9.99999990625318\n",
            "    CPU time for vxc     13.12 sec, wall time     13.14 sec\n",
            "E1 = -125.1587012231013  Ecoul = 51.46051459241479  Exc = -25.224608504165804\n",
            "cycle= 8 E= -89.7345367171062  delta_E= -7.81e-07  |g|= 1.12e-06  |ddm|= 4.96e-06\n",
            "    CPU time for cycle= 8     13.17 sec, wall time     13.18 sec\n",
            "  HOMO = -0.521033820869723  LUMO = -0.15825610282064\n",
            "  mo_energy =\n",
            "[-24.05548935  -1.40543883  -0.76658729  -0.61819706  -0.52103382\n",
            "  -0.1582561   -0.06170411   0.19564251   0.20589999   0.52886875\n",
            "   0.54896358   0.68018297   0.77831783   1.7930047    1.84990614\n",
            "   4.26425747   4.37539176   4.49533309  40.75342916]\n",
            "nelec by numeric integration = 9.999999906253255\n",
            "    CPU time for vxc     12.71 sec, wall time     12.72 sec\n",
            "E1 = -125.1587089498521  Ecoul = 51.46052426550942  Exc = -25.22461050128421\n",
            "Extra cycle  E= -89.7345367678808  delta_E= -5.08e-08  |g|= 1.63e-06  |ddm|= 1.39e-06\n",
            "    CPU time for scf_cycle    147.42 sec, wall time    165.27 sec\n",
            "    CPU time for SCF    147.45 sec, wall time    165.33 sec\n",
            "converged SCF energy = -89.7345367678808\n"
          ]
        },
        {
          "output_type": "execute_result",
          "data": {
            "text/plain": [
              "-89.73453676788077"
            ]
          },
          "metadata": {},
          "execution_count": 8
        }
      ],
      "source": [
        "import tensorflow as tf\n",
        "\n",
        "def nn_model(x_input, W1, b1, W2, b2):\n",
        "    x = tf.add(tf.matmul(tf.cast(x_input, tf.float32), W1), b1)\n",
        "    x = tf.nn.relu(x)\n",
        "    logits = tf.add(tf.matmul(x, W2), b2)\n",
        "    return logits\n",
        "\n",
        "#We are setting the perameters randomly. You should not expect to see any good results from this... \n",
        "#Also, the convergence may take forever. So... Be free to play with setting max cycles \n",
        "W1 = tf.random.normal([2, 10], stddev=0.01)\n",
        "b1 = tf.random.normal([10])\n",
        "W2 = tf.random.normal([10, 1], stddev=0.01)\n",
        "b2 = tf.random.normal([1])\n",
        "\n",
        "from pyscf import gto\n",
        "from pyscf import dft\n",
        "\n",
        "def eval_xc(xc_code, rho, spin, relativity=0, deriv=1, omega=None, verbose=None):\n",
        "    rho0, dx, dy, dz = rho[:4]\n",
        "    gamma = (dx**2 + dy**2 + dz**2)**.5\n",
        "\n",
        "    pbe_xc = dft.libxc.eval_xc('pbe,pbe', rho, spin, relativity, deriv, verbose)\n",
        "    exc = pbe_xc[0]\n",
        "    vrho = pbe_xc[1][0]\n",
        "    vgamma = pbe_xc[1][1]\n",
        "      \n",
        "    Fxc = [nn_model([[rho0[i],gamma[i]]],W1, b1, W2, b2).numpy()[0][0] for i in range(len(rho0))]\n",
        "    exc = Fxc * exc\n",
        "    vrho = Fxc * vrho\n",
        "    vgamma = Fxc * vgamma\n",
        "    vlapl = None\n",
        "    vtau = None\n",
        "    vxc = (vrho, vgamma, vlapl, vtau)\n",
        "    fxc = None \n",
        "    kxc = None \n",
        "    return exc, vxc, fxc, kxc\n",
        "\n",
        "mol = gto.M(\n",
        "    atom = '''\n",
        "    O  0.000   0.000   0.000\n",
        "    H  0.000  -0.757   0.587\n",
        "    H  0.000   0.757   0.587 ''',\n",
        "    basis = '6-311g')\n",
        "\n",
        "\n",
        "\n",
        "\n",
        "mf = dft.RKS(mol)\n",
        "mf = mf.define_xc_(eval_xc, 'GGA')\n",
        "mf.verbose = 5\n",
        "mf.conv_tol=1e-6\n",
        "mf.max_cycle = 50\n",
        "mf.kernel()\n"
      ]
    },
    {
      "cell_type": "markdown",
      "metadata": {
        "id": "r9WxuOppDkOv"
      },
      "source": [
        "\"Training\" is nothing more than an optimization of the parameters of our ANN to minimize the loss function. To do so, we must construct the loss function inside a proper function that can be passed to your optimization library of choice. In this case, some intricate casting and shaping arrangements probably will be used.\n",
        "\n",
        "I already did some \"hard\" work on training a very dummy functional on the Atomization Energy (AE) of water molecules only (a training set with a single molecule).  Here, we used $AE(H_2O)=E(H_2O)-E(H_2)-\\tfrac{1}{2}E(O_2)$. I performed a few non-gradient-based optimizations using PySwarms (https://pyswarms.readthedocs.io/en/latest/).\n",
        "\n",
        "Bellow, you can try to use some of those parameters (they are on the GitHub folder, maybe you will need to download and upload them to Colad by yourself...). To change between different sets, you can change \"h=np.load('param6.npy')\"."
      ]
    },
    {
      "cell_type": "code",
      "execution_count": 11,
      "metadata": {
        "colab": {
          "base_uri": "https://localhost:8080/"
        },
        "id": "NrtzFCQxDjtd",
        "outputId": "91c16fd5-a179-4a26-aafb-459c71efd69e"
      },
      "outputs": [
        {
          "output_type": "stream",
          "name": "stdout",
          "text": [
            "H2:\n",
            "  B3LYP:    -1.1698584016943365\n",
            "  PBE:      -1.1630432931119752\n",
            "  ANN-PBE:  -0.5595747577335778\n",
            "-------------------------------------------------\n",
            "O2:\n",
            "  B3LYP:    -150.19872227229126\n",
            "  PBE:      -150.1205007770984\n",
            "  ANN-PBE:  -102.46050570002849\n",
            "-------------------------------------------------\n",
            "=================================================\n",
            "-------------------------------------------------\n"
          ]
        }
      ],
      "source": [
        "from pyscf import gto, scf, dft\n",
        "import tensorflow as tf\n",
        "import numpy as np\n",
        "\n",
        "\n",
        "def rolling(parameters): #This is here just to \"roll\" the vector stored on the parameter files to the correct shapes used on the ANN.\n",
        "\t###  w1\n",
        "\tstart=0\n",
        "\tend=start+2*10\n",
        "\tw1=parameters[start:end].reshape((2,10))\n",
        "\t###  b1\n",
        "\tstart=end\n",
        "\tend=start+10\n",
        "\tb1=parameters[start:end].reshape((10,))\n",
        "\t###  w2\n",
        "\tstart=end\n",
        "\tend=start+10*1\n",
        "\tw2=parameters[start:end].reshape((10,1))\n",
        "\t###  b2\n",
        "\tstart=end\n",
        "\tend=start+1\n",
        "\tb2=parameters[start:end].reshape((1,))\n",
        "\t\n",
        "\tif end != len(parameters):\n",
        "\t\tprint(\"Something is out of place... \")\n",
        "\t\tprint(\"end=\",end,\" but we expected it to be \", len(parameters))\n",
        "\t\texit()\n",
        "\t\n",
        "\treturn w1, b1, w2, b2\n",
        "\n",
        "def eval_xc(xc_code, rho, spin=0, relativity=0, deriv=1, omega=None, verbose=None):\n",
        "  rho0, dx, dy, dz = rho[:4]\n",
        "  gamma = (dx**2 + dy**2 + dz**2)**.5\n",
        "  G=[list(zip(rho0,gamma))]\n",
        "   \n",
        "  pbe_xc = dft.libxc.eval_xc('pbe,pbe', rho, spin, relativity, deriv, verbose)\n",
        "  exc = pbe_xc[0]\n",
        "  vrho = pbe_xc[1][0]\n",
        "  vgamma = pbe_xc[1][1]\n",
        "  \n",
        "  # LOADING THE SAVED PARAMETER!!!\n",
        "  h=np.load('param6.npy')\n",
        "  W1, b1, W2, b2 = rolling(h)\n",
        "\n",
        "  def nn_model(x_input, W1, b1, W2, b2):\n",
        "    log2=0.6931471805599453094172321214581765680755001343602552541206800094\n",
        "    x = tf.add(tf.matmul(tf.cast(x_input, tf.float32), W1), b1)\n",
        "    x = tf.nn.softplus(x)/log2\n",
        "    logits = tf.add(tf.matmul(x, W2), b2)\n",
        "    y = tf.nn.softplus(logits)/log2\n",
        "    return logits\n",
        "  fxc = nn_model(G, W1, b1, W2, b2).numpy()\n",
        "  exc = [fxc[0][i][0] * exc[i] for i in range(len(fxc[0]))]\n",
        "  vrho = [fxc[0][i][0] * vrho[i] for i in range(len(fxc[0]))]\n",
        "  vgamma = [fxc[0][i][0] * vgamma[i] for i in range(len(fxc[0]))]\n",
        "  vlapl = None\n",
        "  vtau = None\n",
        "  vxc = (vrho[0], vgamma[0], vlapl, vtau)\n",
        "\n",
        "  fxc = None  # 2nd order functional derivative\n",
        "  kxc = None  # 3rd order functional derivative\n",
        "  return exc, vxc, fxc, kxc\n",
        "\n",
        "\n",
        "\n",
        "# Computing H2 for AE\n",
        "mol = gto.M(\n",
        "    atom = '''\n",
        "    H        0.00000        0.00000   0.368583\n",
        "    H        0.00000        0.00000  -0.368583''',\n",
        "    basis = '6-311g')\n",
        "\n",
        "# We obtain the B3LYP value (reference) and density\n",
        "mf_mol = scf.RKS(mol)\n",
        "mf_mol.xc = 'B3LYP'\n",
        "mf_mol.verbose = 0\n",
        "mf_mol.max_cycle = 200\n",
        "mf_mol.init_guess = 'huckel'\n",
        "e_tot_reff=mf_mol.kernel()\n",
        "dmref = mf_mol.make_rdm1()\n",
        "\n",
        "# Compute total energy with trained functional for B3LYP density\n",
        "mf = dft.RKS(mol)\n",
        "mf = mf.define_xc_(eval_xc, 'GGA')\n",
        "mf.max_cycle = 0\n",
        "mf.verbose = 0\n",
        "e_tot_testf=mf.kernel(dm0=dmref)\n",
        "\n",
        "\n",
        "# Compute PBE total energy for B3LYP density\n",
        "mf = scf.RKS(mol)\n",
        "mf.xc = 'PBE'\n",
        "mf.verbose = 0\n",
        "mf.max_cycle = 0\n",
        "e_tot_PBE=mf.kernel(dm0=dmref)\n",
        "\n",
        "print(\"H2:\")\n",
        "print(\"  B3LYP:   \",e_tot_reff)\n",
        "e_tot_reff_H2=e_tot_reff*.5\n",
        "print(\"  PBE:     \",e_tot_PBE)\n",
        "e_tot_PBE_H2=e_tot_PBE*.5\n",
        "print(\"  ANN-PBE: \",e_tot_testf)\n",
        "e_tot_testf_H2=e_tot_testf*.5\n",
        "print(\"-------------------------------------------------\")\n",
        "\n",
        "## Computing O2 for AE\n",
        "mol = gto.M(\n",
        "    atom =''' \n",
        "            O        0.00000000       0.00000000       0.62297800\n",
        "            O        0.00000000       0.00000000      -0.62297800''',\n",
        "    basis = '6-311g')\n",
        "#B3LYP\n",
        "mf_mol = scf.RKS(mol)\n",
        "mf_mol.xc = 'B3LYP'\n",
        "mf_mol.verbose = 0\n",
        "mf_mol.max_cycle = 200\n",
        "mf_mol.init_guess = 'huckel'\n",
        "e_tot_reff=mf_mol.kernel()\n",
        "dmref = mf_mol.make_rdm1()\n",
        "#Trained functional\n",
        "mf = dft.RKS(mol)\n",
        "mf = mf.define_xc_(eval_xc, 'GGA')\n",
        "mf.max_cycle = 0\n",
        "mf.verbose = 0\n",
        "e_tot_testf=mf.kernel(dm0=dmref)\n",
        "#PBE\n",
        "mf = scf.RKS(mol)\n",
        "mf.xc = 'PBE'\n",
        "mf.verbose = 0\n",
        "mf.max_cycle = 0\n",
        "e_tot_PBE=mf.kernel(dm0=dmref)\n",
        "\n",
        "print(\"O2:\")\n",
        "print(\"  B3LYP:   \",e_tot_reff)\n",
        "e_tot_reff_O2=e_tot_reff*.5\n",
        "print(\"  PBE:     \",e_tot_PBE)\n",
        "e_tot_PBE_O2=e_tot_PBE*.5\n",
        "print(\"  ANN-PBE: \",e_tot_testf)\n",
        "e_tot_testf_O2=e_tot_testf*.5\n",
        "print(\"-------------------------------------------------\")\n",
        "print(\"=================================================\")\n",
        "print(\"-------------------------------------------------\")\n",
        "\n",
        "\n"
      ]
    },
    {
      "cell_type": "markdown",
      "source": [
        "Check those energies... They make any sence? Why the ones we predict are so far from the B3LYP and PBE ones? Is it un issue?"
      ],
      "metadata": {
        "id": "6ZpuGnv2DPNQ"
      }
    },
    {
      "cell_type": "code",
      "execution_count": 12,
      "metadata": {
        "colab": {
          "base_uri": "https://localhost:8080/"
        },
        "id": "hYB3UJ0QDa7X",
        "outputId": "42ac983b-f479-4926-be07-98aee960df20"
      },
      "outputs": [
        {
          "output_type": "stream",
          "name": "stdout",
          "text": [
            "-------------------------------------------------\n",
            "H2O (loss function):\n",
            " Err.ANN: 0.002064792894522327\n",
            " Err.PBE: 0.0042298840151602235\n",
            "-------------------------------------------------\n",
            "-------------------------------------------------\n",
            "-------------------------------------------------\n",
            "H2O2:\n",
            " Err.ANN: 6.446047005681521e-05\n",
            " Err.PBE: 0.0023728387796211337\n",
            "-------------------------------------------------\n",
            "-------------------------------------------------\n",
            "O3:\n",
            " Err.ANN: 0.031016659374216715\n",
            " Err.PBE: 0.02154338624430352\n",
            "-------------------------------------------------\n"
          ]
        }
      ],
      "source": [
        "# Error in H2O Atomization Energies (the one used for training)\n",
        "mol = gto.M(\n",
        "    atom = '''\n",
        "        O  0.000   0.000   0.000\n",
        "        H  0.000  -0.757   0.587\n",
        "        H  0.000   0.757   0.587 ''',\n",
        "    basis = '6-311g')\n",
        "\n",
        "mf_mol = scf.RKS(mol)\n",
        "mf_mol.xc = 'B3LYP'\n",
        "mf_mol.verbose = 0\n",
        "mf_mol.max_cycle = 200\n",
        "mf_mol.init_guess = 'huckel'\n",
        "e_tot_reff=mf_mol.kernel()\n",
        "dmref = mf_mol.make_rdm1()\n",
        "\n",
        "mf = dft.RKS(mol)\n",
        "mf = mf.define_xc_(eval_xc, 'GGA')\n",
        "mf.max_cycle = 0\n",
        "mf.verbose = 0\n",
        "e_tot_testf=mf.kernel(dm0=dmref)\n",
        "\n",
        "mf = scf.RKS(mol)\n",
        "mf.xc = 'PBE'\n",
        "mf.verbose = 0\n",
        "mf.max_cycle = 0\n",
        "e_tot_PBE=mf.kernel(dm0=dmref)\n",
        "\n",
        "print(\"-------------------------------------------------\")\n",
        "deltaE=abs((e_tot_reff-2.0*e_tot_reff_H2-e_tot_reff_O2)-(e_tot_testf-2.0*e_tot_testf_H2-e_tot_testf_O2))\n",
        "deltaEPBE=abs((e_tot_reff-2.0*e_tot_reff_H2-e_tot_reff_O2)-(e_tot_PBE-2.0*e_tot_PBE_H2-e_tot_PBE_O2))\n",
        "print(\"H2O (loss function):\")\n",
        "print(\" Err.ANN:\",deltaE)\n",
        "print(\" Err.PBE:\",deltaEPBE)\n",
        "print(\"-------------------------------------------------\")\n",
        "print(\"-------------------------------------------------\")\n",
        "\n",
        "\n",
        "# Error on AE for H2O2\n",
        "mol = gto.M(\n",
        "    atom = '''\n",
        "    O        0.00000000       0.73405800      -0.05275000\n",
        "    O        0.00000000      -0.73405800      -0.05275000\n",
        "    H        0.83954700       0.88075200       0.42200100\n",
        "    H       -0.83954700      -0.88075200       0.42200100''',\n",
        "    basis = '6-311g')\n",
        "\n",
        "mf_mol = scf.RKS(mol)\n",
        "mf_mol.xc = 'B3LYP'\n",
        "mf_mol.verbose = 0\n",
        "mf_mol.max_cycle = 200\n",
        "mf_mol.init_guess = 'huckel'\n",
        "e_tot_reff=mf_mol.kernel()\n",
        "dmref = mf_mol.make_rdm1()\n",
        "\n",
        "mf = dft.RKS(mol)\n",
        "mf = mf.define_xc_(eval_xc, 'GGA')\n",
        "mf.max_cycle = 0\n",
        "mf.verbose = 0\n",
        "e_tot_testf=mf.kernel(dm0=dmref)\n",
        "\n",
        "mf = scf.RKS(mol)\n",
        "mf.xc = 'PBE'\n",
        "mf.verbose = 0\n",
        "mf.max_cycle = 0\n",
        "e_tot_PBE=mf.kernel(dm0=dmref)\n",
        "\n",
        "print(\"-------------------------------------------------\")\n",
        "deltaE=abs((e_tot_reff-2.0*e_tot_reff_H2-2.0*e_tot_reff_O2)-(e_tot_testf-2.0*e_tot_testf_H2-2.0*e_tot_testf_O2))\n",
        "deltaEPBE=abs((e_tot_reff-2.0*e_tot_reff_H2-2.0*e_tot_reff_O2)-(e_tot_PBE-2.0*e_tot_PBE_H2-2.0*e_tot_PBE_O2))\n",
        "print(\"H2O2:\")\n",
        "print(\" Err.ANN:\",deltaE)\n",
        "print(\" Err.PBE:\",deltaEPBE)\n",
        "print(\"-------------------------------------------------\")\n",
        "\n",
        "\n",
        "\n",
        "# Error on AE for ozone (O3)\n",
        "mol = gto.M(\n",
        "    atom = '''\n",
        "    O        0.00000        1.10381  -0.228542\n",
        "    O        0.00000        0.00000   0.457084\n",
        "    O        0.00000       -1.10381  -0.228542''',\n",
        "    basis = '6-311g')\n",
        "\n",
        "mf_mol = scf.RKS(mol)\n",
        "mf_mol.xc = 'B3LYP'\n",
        "mf_mol.verbose = 0\n",
        "mf_mol.max_cycle = 200\n",
        "mf_mol.init_guess = 'huckel'\n",
        "e_tot_reff=mf_mol.kernel()\n",
        "dmref = mf_mol.make_rdm1()\n",
        "\n",
        "mf = dft.RKS(mol)\n",
        "mf = mf.define_xc_(eval_xc, 'GGA')\n",
        "mf.max_cycle = 0\n",
        "mf.verbose = 0\n",
        "e_tot_testf=mf.kernel(dm0=dmref)\n",
        "\n",
        "#PBE \n",
        "mf = scf.RKS(mol)\n",
        "mf.xc = 'PBE'\n",
        "mf.verbose = 0\n",
        "mf.max_cycle = 0\n",
        "e_tot_PBE=mf.kernel(dm0=dmref)\n",
        "\n",
        "print(\"-------------------------------------------------\")\n",
        "deltaE=abs((e_tot_reff-3.0*e_tot_reff_O2)-(e_tot_testf-3.0*e_tot_testf_O2))\n",
        "deltaEPBE=abs((e_tot_reff-3.0*e_tot_reff_O2)-(e_tot_PBE-3.0*e_tot_PBE_O2))\n",
        "print(\"O3:\")\n",
        "print(\" Err.ANN:\",deltaE)\n",
        "print(\" Err.PBE:\",deltaEPBE)\n",
        "print(\"-------------------------------------------------\")\n",
        "\n",
        "\n"
      ]
    },
    {
      "cell_type": "markdown",
      "source": [
        "What molecules are predicted in a correct why and what are none? In wich ones we improved over PBE?"
      ],
      "metadata": {
        "id": "modUpKMGDswu"
      }
    },
    {
      "cell_type": "markdown",
      "source": [
        "\n",
        "\n",
        "---\n",
        "\n",
        "#Some things that you can try for yourself:\n",
        "\n",
        "\n",
        "\n",
        "1. Instead of correcting PBE, why not a Meta-GGA? Think on how the code needs to change.\n",
        "2. Check those parameters for self-consistent calculations. (SPOILER: They are bad. Maybe one can optimaze everything using self-consistent energies... Maybe it can be you, in case you do the next suggestions.)\n",
        "3.   Implement the atomization energy of a small set of molecules as a function of the parameters (as a callable object). Maybe the structures can come from ase.collections (https://wiki.fysik.dtu.dk/ase/ase/collections.html#ase.collections.g2)\n",
        "4.   Send this loss function to a non-gradient-based optimization library and create your own functional. \n",
        "5.   Automate the validation for a set of molecules that extend on your training. \n",
        "\n"
      ],
      "metadata": {
        "id": "avzMlkm_EFsv"
      }
    },
    {
      "cell_type": "code",
      "source": [
        "#..."
      ],
      "metadata": {
        "id": "dz-ji60OEAIp"
      },
      "execution_count": null,
      "outputs": []
    }
  ],
  "metadata": {
    "colab": {
      "provenance": [],
      "include_colab_link": true
    },
    "kernelspec": {
      "display_name": "Python 3",
      "language": "python",
      "name": "python3"
    },
    "language_info": {
      "codemirror_mode": {
        "name": "ipython",
        "version": 3
      },
      "file_extension": ".py",
      "mimetype": "text/x-python",
      "name": "python",
      "nbconvert_exporter": "python",
      "pygments_lexer": "ipython3",
      "version": "3.8.10"
    }
  },
  "nbformat": 4,
  "nbformat_minor": 0
}