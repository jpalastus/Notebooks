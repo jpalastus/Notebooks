{
  "cells": [
    {
      "cell_type": "markdown",
      "metadata": {
        "id": "view-in-github",
        "colab_type": "text"
      },
      "source": [
        "<a href=\"https://colab.research.google.com/github/jpalastus/Notebooks/blob/main/Roscoff_Basics_Colab.ipynb\" target=\"_parent\"><img src=\"https://colab.research.google.com/assets/colab-badge.svg\" alt=\"Open In Colab\"/></a>"
      ]
    },
    {
      "cell_type": "markdown",
      "source": [
        "#How to Build Machine Learning Exchange and Correlation Functionals for DFT\n",
        "\n",
        "Made by João Paulo Almeida de Mendonça\n",
        "\n",
        "[![Open in Colab](https://colab.research.google.com/assets/colab-badge.svg)](https://colab.research.google.com/github/xxxx/xxxx/xxxx.ipynb)"
      ],
      "metadata": {
        "id": "RndIZzmhHqvT"
      }
    },
    {
      "cell_type": "markdown",
      "metadata": {
        "id": "KquPEECNL1K8"
      },
      "source": [
        "## Basics of PYSCF\n",
        "\n",
        "For people that have some experience with quantum chemistry nomenclature and softwares, the main obstacle in PySCF is that its structured to be \"python friendly\". The philosophy behind PySCF is that you define a molecule (or cell) and a method (\"mean-field\" of \"post-mean-field\") object, that combined can be used to run the SCF itself.  \n",
        "\n",
        "Exemple - H$_2$O, 3-611G, PBE\n"
      ]
    },
    {
      "cell_type": "code",
      "execution_count": 12,
      "metadata": {
        "id": "tquuSt8lYxWK"
      },
      "outputs": [],
      "source": [
        "#!pip install --prefer-binary --upgrade pyscf"
      ]
    },
    {
      "cell_type": "code",
      "execution_count": 2,
      "metadata": {
        "colab": {
          "base_uri": "https://localhost:8080/"
        },
        "id": "pVkUFdl79P2r",
        "outputId": "ea2a9187-36d7-4138-fad1-418e4700c365"
      },
      "outputs": [
        {
          "output_type": "execute_result",
          "data": {
            "text/plain": [
              "-76.00933224033"
            ]
          },
          "metadata": {},
          "execution_count": 2
        }
      ],
      "source": [
        "##### A very straightforward exemple with minimal information\n",
        "from pyscf import gto\n",
        "from pyscf import scf\n",
        "\n",
        "#Basic Molecule geometry and proprieties parsing. More features are explained in https://pyscf.org/user/gto.html\n",
        "mol = gto.M(\n",
        "    atom = '''\n",
        "    O  0.000   0.000   0.000\n",
        "    H  0.000  -0.757   0.587\n",
        "    H  0.000   0.757   0.587 ''',\n",
        "    basis = '6-311g')\n",
        "\n",
        "#Exemple of a basic restricted Hartree--Fock calculation.\n",
        "#mf.kernel returns the total energy, nothing else should be printed with mf.verbose = 0\n",
        "mf = scf.RHF(mol)\n",
        "mf.verbose = 0\n",
        "mf.kernel()\n"
      ]
    },
    {
      "cell_type": "code",
      "source": [
        "##### A similar exemple, now with few keywords added to demonstrate PySCF functionalities \n",
        "from pyscf import dft,gto,scf\n",
        "\n",
        "#Molecule Definition\n",
        "mol = gto.M(\n",
        "    atom = '''\n",
        "    O  0.000   0.000   0.000\n",
        "    H  0.000  -0.757   0.587\n",
        "    H  0.000   0.757   0.587 ''',\n",
        "    charge= 0,                   # -1 = one extra electron\n",
        "    spin=0,                      # Number of unpared electrons (same as 2S) \n",
        "    output='output.out',         # Direct output from this molecule to a file \n",
        "    basis = '6-311g'             # Basis set used on the SCF process\n",
        "    )\n",
        "\n",
        "\n",
        "#Same molecule, but now with a diferent method, unrestricted DFT (PBE).\n",
        "mf = scf.UKS(mol).newton()        # .newton() activates second-order self-consistent field (SOSCF)\n",
        "mf = scf.addons.frac_occ(mf)      # Allow fractional orbital ocupation to help convergence.\n",
        "\n",
        "mf.xc = 'PBE'                     # Functional PBE. Any functional in XCLib can be used. \n",
        "mf.verbose = 4                    # Defines verbosity level. 0 = no output\n",
        "mf.conv_tol=1e-10                 # Energy convergence criteria, in Eh\n",
        "mf.max_cycle = 100                # Maximun allowed number of SCF cycles\n",
        "\n",
        "\n",
        "mf.chkfile = 'chkpoint.dat'       # Checkpoint file to restart calculations\n",
        "mf.init_guess = 'vsap'            # Strategy used for initial density guess\n",
        "#mf.init_guess = 'chkpoint.dat'   # Loading old ckeckpoint file\n",
        "\n",
        "\n",
        "#Runs the SCF\n",
        "mf.kernel()\n",
        "\n",
        "#Analyze the given SCF object: \n",
        "#    print orbital energies, occupancies; \n",
        "#    print orbital coefficients; \n",
        "#    Mulliken population analysis; \n",
        "#    Diople moment.\n",
        "results=mf.analyze()"
      ],
      "metadata": {
        "colab": {
          "base_uri": "https://localhost:8080/"
        },
        "id": "jez1OBST8uFF",
        "outputId": "eddad95e-8988-48cd-b521-3360d322d482"
      },
      "execution_count": 3,
      "outputs": [
        {
          "output_type": "stream",
          "name": "stdout",
          "text": [
            "output file: output.out\n"
          ]
        },
        {
          "output_type": "stream",
          "name": "stderr",
          "text": [
            "Overwritten attributes  get_occ  of <class 'pyscf.soscf.newton_ah.newton.<locals>.SecondOrderUHF'>\n"
          ]
        }
      ]
    },
    {
      "cell_type": "markdown",
      "metadata": {
        "id": "EQiVF_IuGK48"
      },
      "source": [
        "Now, you can try to compute a particular system that you like. Maybe try to run something that has charges and different spin states. Maybe try to define a HF calculation? Or a small coupled cluster one? Check https://pyscf.org/quickstart.html or https://pyscf.org/user.html for more informations on how to do it.\n",
        "\n",
        "Be aware that maybe you will need to play first with low  values of mf.conv_tol and mf.max_cycle, to be able to do it in the tutorial time.  "
      ]
    },
    {
      "cell_type": "code",
      "execution_count": 4,
      "metadata": {
        "id": "ajnohUbdGKk7"
      },
      "outputs": [],
      "source": [
        "from pyscf import dft,gto,scf\n",
        "\n",
        "#mol = gto.M(\n",
        "#    atom = '''\n",
        "#    XX  0.000   0.000   0.000''',\n",
        "#    basis = '...'\n",
        "#    )\n",
        "\n",
        "#mf = ...\n",
        "\n",
        "\n",
        "#mf.kernel()"
      ]
    },
    {
      "cell_type": "markdown",
      "metadata": {
        "id": "97XAXI9hMb_-"
      },
      "source": [
        "Lets do one more step before egoing to ML. This is how we use PySCF to run DFT calculations with a customized functional, hard-coded.\n",
        "\n",
        "`eval_xc` should be built to return the list [$𝜀_{XC}$,$v_{XC}$,$f_{XC}$,$k_{XC}$], i.e., $𝜀_{XC}$ and its first, second, and third derivatives respectively. In particular, $v_{XC}=(\\frac{d𝜀_{XC}}{dρ},\\frac{d𝜀_{XC}}{dγ},\\frac{d𝜀_{XC}}{d\\nabla^2ρ},\\frac{d𝜀_{XC}}{dτ})$. This shape ensures the compatibility of our functional with the rest of PySCF.\n",
        "\n",
        "To show how to customize a functional, we define a new functional that has the PBE correlation + PW86 exchange (for PW86 see https://doi.org/10.1103/physrevb.33.8800). Specifically, the PW86 exchange is here defined in terms of the reduced density gradients using the published parametrization by Perdew."
      ]
    },
    {
      "cell_type": "code",
      "execution_count": 5,
      "metadata": {
        "colab": {
          "base_uri": "https://localhost:8080/"
        },
        "id": "YyWDqdoiAlfJ",
        "outputId": "eff4e0df-7b2d-4eae-8171-7e55c8e62980"
      },
      "outputs": [
        {
          "output_type": "execute_result",
          "data": {
            "text/plain": [
              "-63.6292957439108"
            ]
          },
          "metadata": {},
          "execution_count": 5
        }
      ],
      "source": [
        "from pyscf import dft\n",
        "\n",
        "def eval_xc(xc_code, rho, spin=0, relativity=0, deriv=1, omega=None, verbose=None):\n",
        "    pi=3.1415926535897932384626433832795028841971\n",
        "    third=1.0/3.0\n",
        "    # A fictitious XC functional\n",
        "    # xc_code = \"LDA\", \"GGA\", \"meta-GGA\"\n",
        "    # SHAPE OF rho:      LDA - 1D array of shape (N) to store electron density, N being the number of integration grid points \n",
        "    #                    GGA - 2D array of shape (4,N) to store density and \"density derivatives\" for x,y,z components\n",
        "    #                    meta-GGA - can be a (6,N) (with_lapl=True) array where last two rows are \\nabla^2 rho and tau = 1/2(\\nabla f)^2\n",
        "    rho0, dx, dy, dz = rho[:4]\n",
        "    gamma = (dx**2 + dy**2 + dz**2)\n",
        "    \n",
        "    kf=(3*pi**2)**third*(rho0+1e-6)**third\n",
        "    s=(gamma)**0.5/(2*kf*(rho0+1e-6))\n",
        "    a=0.0864\n",
        "    b=14.0\n",
        "    c=0.2\n",
        "    m=1.0/15.0\n",
        "    par=(1.0+(a/m)*s**2+b*s**4+c*s**6)\n",
        "    Fx=par**m\n",
        "    chainrule=m*par**(m-1.0) * ((2.0*a/m)*s+4*b*s**3+6*c*s**5)\n",
        "    Fvrho   = chainrule * (4.0/3.0)*s/(rho0+1e-6)\n",
        "    #Fvgamma = chainrule *    0.5   *s/(gamma+1e-6)\n",
        "\n",
        "    # Getting original PBE Correlation and LDA Exchange\n",
        "    pbe_c = dft.libxc.eval_xc(',pbe', rho, spin, relativity, deriv, verbose)   # 'pbe,pbe' is a explicit way of choosing that both exchange\n",
        "    lda_x = dft.libxc.eval_xc('lda,',rho0, spin, relativity, deriv, verbose)   # and correlation will be done in the same way as 'PBE'.\n",
        "                                                                               # 'pbe,' or ',pbe' can be used to get the X and C separetly.\n",
        "                                                                               # The sintax is \"exchange,correlation\"\n",
        "      \n",
        "    \n",
        "\n",
        "    # Mixing PBE and the fictitious functional\n",
        "    exc = pbe_c[0] + Fx*lda_x[0]\n",
        "    vrho = pbe_c[1][0] + Fvrho*lda_x[1][0]\n",
        "    vgamma = pbe_c[1][1]\n",
        "    vlapl = None\n",
        "    vtau = None\n",
        "    vxc = (vrho, vgamma, vlapl, vtau)\n",
        "    fxc = None  # 2nd order functional derivative\n",
        "    kxc = None  # 3rd order functional derivative\n",
        "\n",
        "    return exc, vxc, fxc, kxc\n",
        "\n",
        "\n",
        "mol = gto.M(\n",
        "    atom = '''\n",
        "    O  0.000   0.000   0.000\n",
        "    H  0.000  -0.757   0.587\n",
        "    H  0.000   0.757   0.587 ''',\n",
        "    basis = '6-311g')\n",
        "\n",
        "mf = dft.RKS(mol)\n",
        "mf = mf.define_xc_(eval_xc, 'GGA', hyb=None)  # hyb is the amount of exact exchange to be used (HYBRID FUNCTIONAL)\n",
        "                                              # 'GGA' is the xctype, and defines the shape of rho passed to eval_xc\n",
        "mf.verbose = 0\n",
        "mf.guess='huckel'\n",
        "mf.kernel()\n"
      ]
    },
    {
      "cell_type": "markdown",
      "metadata": {
        "id": "kDKjfx8DNTY_"
      },
      "source": [
        "---\n",
        "## Crating a basic multilayer perceptron with TensorFlow\n",
        "\n",
        "\n",
        "```   \n",
        "          h - - - - h\n",
        "       /  h - - - - h  \\\n",
        "     /    h - - - - h    \\\n",
        "   /      h - - - - h      \\\n",
        "i         h - - - - h        \\\n",
        "                               \\\n",
        "i         .         .            \\\n",
        "          .         .              o\n",
        "i         .         .            /\n",
        "                               /\n",
        "i         h - - - - h        /\n",
        "   \\      h - - - - h      /\n",
        "     \\    h - - - - h    /\n",
        "       \\  h - - - - h  /\n",
        "          h - - - - h\n",
        "```\n",
        "- 4 input neurons\n",
        "- 100 neurons in hidden layer 1\n",
        "- 100 neurons in hidden layer 2\n",
        "- 1 output neuron"
      ]
    },
    {
      "cell_type": "code",
      "execution_count": 13,
      "metadata": {
        "id": "RSSKCeWRNHpI"
      },
      "outputs": [],
      "source": [
        "#!pip install tensorflow"
      ]
    },
    {
      "cell_type": "code",
      "execution_count": 7,
      "metadata": {
        "colab": {
          "base_uri": "https://localhost:8080/"
        },
        "id": "yeRV5JzQN10j",
        "outputId": "0955515b-f05e-408c-c8e5-06ccab109bcb"
      },
      "outputs": [
        {
          "output_type": "stream",
          "name": "stdout",
          "text": [
            "[[  63.310547  111.5352   -131.98026    30.03712 ]] \t [[8.19417]]\n",
            "[[ -66.40866    81.026695 -136.04826   -44.764885]] \t [[9.44861]]\n",
            "[[-193.80553  -126.9541     57.309372 -111.11817 ]] \t [[1.1093315]]\n",
            "[[-45.74519    -5.8951473 -19.769964   25.358946 ]] \t [[2.039789]]\n",
            "[[ -97.16234   -125.46819      3.6539197  103.49301  ]] \t [[-2.984794]]\n",
            "[[ 71.60284   63.805286 -28.439983 163.371   ]] \t [[5.122393]]\n",
            "[[ 56.723343 124.147865 -34.751526  40.31501 ]] \t [[5.805638]]\n",
            "[[  70.499596   59.331192 -107.46678    20.665236]] \t [[4.3584366]]\n",
            "[[-175.93806  139.17479 -156.64551  -65.05395]] \t [[10.778483]]\n",
            "[[-75.184875 -30.721659 -52.230583 -89.834755]] \t [[0.5494281]]\n"
          ]
        }
      ],
      "source": [
        "import tensorflow as tf\n",
        "\n",
        "def nn_model(x_input, W1, b1, W2, b2, W3, b3):\n",
        "    x = tf.add(tf.matmul(tf.cast(x_input, tf.float32), W1), b1)      #\n",
        "    x = tf.nn.relu(x)                                                #\n",
        "    x = tf.add(tf.matmul(tf.cast(x, tf.float32), W2), b2)            # Bulding a multilayer perseptron using tf functions.\n",
        "    x = tf.nn.relu(x)                                                #  - add and matmul corresponde to basic matrix addition and multiplication\n",
        "    x_output = tf.add(tf.matmul(x, W3), b3)                          #  - nn.relu is a build in implementation of the activation function rELU(x)\n",
        "    return x_output                                                  #\n",
        "\n",
        "\n",
        "# weights connecting the input to the 1st hidden layer\n",
        "W1 = tf.random.normal([4, 100], stddev=0.1)\n",
        "b1 = tf.random.normal([100])\n",
        "# weights connecting the hidden layers \n",
        "W2 = tf.random.normal([100, 100], stddev=0.1)\n",
        "b2 = tf.random.normal([100])\n",
        "# weights connecting the 2nd hidden layer to the output layer\n",
        "W3 = tf.random.normal([100, 1], stddev=0.1)\n",
        "b3 = tf.random.normal([1])\n",
        "\n",
        "#Evaluating the ANN in randon inputs, to showcase its usage. \n",
        "for i in range(10):\n",
        "  input=tf.random.normal([1,4], stddev=100.0)\n",
        "  print(input.numpy(),\"\\t\",nn_model(input,W1, b1, W2, b2, W3, b3).numpy())"
      ]
    },
    {
      "cell_type": "markdown",
      "metadata": {
        "id": "RxYvtuy5VSZ9"
      },
      "source": [
        "\n",
        "\n",
        "\n",
        "---\n",
        "\n",
        "## Using a multilayer perceptron as functional\n",
        "\n",
        "> Indented block\n",
        "\n",
        "\n",
        "\n",
        "Here, we do a simple exemple of using $𝜀_{XC}=F_{XC}*𝜀_{XC}^{PBE}$, where $F_{XC}$ is the output of a multilayer perceptron. The inputs are the values of density (ρ) and the values of the gradients (γ=|∇ρ|), as the standard PBE.\n",
        "\n",
        "\n",
        "```   \n",
        "          h\n",
        "       /  h  \\\n",
        "     /    h    \\\n",
        "   /      h      \\\n",
        "ρ         h        \\\n",
        "                     Fxc\n",
        "γ         h        /\n",
        "   \\      h      /\n",
        "     \\    h    /\n",
        "       \\  h  /\n",
        "          h\n",
        "```\n",
        "\n"
      ]
    },
    {
      "cell_type": "code",
      "execution_count": 8,
      "metadata": {
        "colab": {
          "base_uri": "https://localhost:8080/"
        },
        "id": "Vz6xNhmYVRPU",
        "outputId": "6cd401f9-c5bf-40a0-e484-d1160072af35"
      },
      "outputs": [
        {
          "output_type": "stream",
          "name": "stdout",
          "text": [
            "\n",
            "\n",
            "******** <class 'pyscf.dft.rks.RKS'> ********\n",
            "method = RKS\n",
            "initial guess = minao\n",
            "damping factor = 0\n",
            "level_shift factor = 0\n",
            "DIIS = <class 'pyscf.scf.diis.CDIIS'>\n",
            "diis_start_cycle = 1\n",
            "diis_space = 8\n",
            "SCF conv_tol = 1e-06\n",
            "SCF conv_tol_grad = None\n",
            "SCF max_cycles = 50\n",
            "direct_scf = True\n",
            "direct_scf_tol = 1e-13\n",
            "chkfile to save SCF result = /content/tmpkbsv99qg\n",
            "max_memory 4000 MB (current use 573 MB)\n",
            "XC library pyscf.dft.libxc version 6.1.0\n",
            "    S. Lehtola, C. Steigemann, M. J.T. Oliveira, and M. A.L. Marques.,  SoftwareX 7, 1–5 (2018)\n",
            "XC functionals = LDA,VWN\n",
            "    P. A. M. Dirac.,  Math. Proc. Cambridge Philos. Soc. 26, 376 (1930)\n",
            "    F. Bloch.,  Z. Phys. 57, 545 (1929)\n",
            "    S. H. Vosko, L. Wilk, and M. Nusair.,  Can. J. Phys. 58, 1200 (1980)\n",
            "small_rho_cutoff = 1e-07\n",
            "Set gradient conv threshold to 0.001\n",
            "    CPU time for setting up grids      0.22 sec, wall time      0.26 sec\n",
            "nelec by numeric integration = 9.99145148631681\n",
            "    CPU time for vxc     17.45 sec, wall time     25.55 sec\n",
            "E1 = -121.69177431928165  Ecoul = 45.29044526257856  Exc = -3.3059407142133734\n",
            "init E= -70.5190113531704\n",
            "cond(S) = 100.70804008167421\n",
            "    CPU time for initialize scf     17.86 sec, wall time     26.08 sec\n",
            "  HOMO = 0.0622445727492501  LUMO = 0.157289308171437\n",
            "  mo_energy =\n",
            "[-1.71207312e+01 -5.33570021e-01 -1.32186799e-01 -1.38846617e-02\n",
            "  6.22445727e-02  1.57289308e-01  2.33344525e-01  5.68813319e-01\n",
            "  6.31988010e-01  9.69129130e-01  9.70390291e-01  1.09689591e+00\n",
            "  1.41635737e+00  2.42921077e+00  2.46394401e+00  5.13008837e+00\n",
            "  5.24669159e+00  5.37308537e+00  5.08771555e+01]\n",
            "nelec by numeric integration = 10.000000106421503\n",
            "    CPU time for vxc     14.03 sec, wall time     14.97 sec\n",
            "E1 = -118.29598089288845  Ecoul = 41.77039692946294  Exc = -3.089737045320195\n",
            "cycle= 1 E= -70.4270625909996  delta_E= 0.0919  |g|= 0.755  |ddm|= 1.45\n",
            "    CPU time for cycle= 1     14.07 sec, wall time     15.00 sec\n",
            "  HOMO = -0.157693279871443  LUMO = 0.0840502291682992\n",
            "  mo_energy =\n",
            "[-17.91746033  -0.83287435  -0.37629874  -0.20741323  -0.15769328\n",
            "   0.08405023   0.15474836   0.47267338   0.5096319    0.8035079\n",
            "   0.82369847   0.92226767   1.218259     2.26769977   2.30919361\n",
            "   4.73175994   4.83600981   4.94692829  50.10668539]\n",
            "nelec by numeric integration = 10.00000001462129\n",
            "    CPU time for vxc     12.73 sec, wall time     12.68 sec\n",
            "E1 = -124.64036549350655  Ecoul = 48.636417606824004  Exc = -3.372631257435514\n",
            "cycle= 2 E= -70.188320726372  delta_E= 0.239  |g|= 1.48  |ddm|= 1.12\n",
            "    CPU time for cycle= 2     12.79 sec, wall time     12.72 sec\n",
            "  HOMO = 0.0279779680549578  LUMO = 0.117206488095524\n",
            "  mo_energy =\n",
            "[-1.74529382e+01 -6.48268229e-01 -2.28727132e-01 -3.21706226e-02\n",
            "  2.79779681e-02  1.17206488e-01  1.92816124e-01  5.23783117e-01\n",
            "  5.58580309e-01  9.32026843e-01  9.43387719e-01  1.03686822e+00\n",
            "  1.34624183e+00  2.31608103e+00  2.35528680e+00  5.00864237e+00\n",
            "  5.10903178e+00  5.21750218e+00  5.05586251e+01]\n",
            "nelec by numeric integration = 10.000000050649742\n",
            "    CPU time for vxc     12.82 sec, wall time     12.77 sec\n",
            "E1 = -120.26666111334123  Ecoul = 43.74229677768229  Exc = -3.180568537069135\n",
            "cycle= 3 E= -70.516674454982  delta_E= -0.328  |g|= 0.0942  |ddm|= 0.826\n",
            "    CPU time for cycle= 3     12.95 sec, wall time     12.85 sec\n",
            "  HOMO = 0.0243512691114425  LUMO = 0.122591320535658\n",
            "  mo_energy =\n",
            "[-1.74589048e+01 -6.40241717e-01 -2.19990283e-01 -4.23805262e-02\n",
            "  2.43512691e-02  1.22591321e-01  1.96612620e-01  5.31495911e-01\n",
            "  5.72583018e-01  9.28745362e-01  9.35090872e-01  1.03285337e+00\n",
            "  1.34633840e+00  2.34248580e+00  2.38082301e+00  5.00375774e+00\n",
            "  5.10175709e+00  5.21279347e+00  5.05529868e+01]\n",
            "nelec by numeric integration = 10.000000059670349\n",
            "    CPU time for vxc     13.65 sec, wall time     13.68 sec\n",
            "E1 = -120.56142140500187  Ecoul = 44.04369735266124  Exc = -3.1891276635561776\n",
            "cycle= 4 E= -70.5185932981507  delta_E= -0.00192  |g|= 0.0211  |ddm|= 0.155\n",
            "    CPU time for cycle= 4     13.70 sec, wall time     13.71 sec\n",
            "  HOMO = 0.0277353575317249  LUMO = 0.122660671247907\n",
            "  mo_energy =\n",
            "[-1.74549287e+01 -6.37237764e-01 -2.17922475e-01 -3.82306483e-02\n",
            "  2.77353575e-02  1.22660671e-01  1.96603367e-01  5.32306425e-01\n",
            "  5.72482947e-01  9.31343574e-01  9.38605446e-01  1.03559302e+00\n",
            "  1.34874617e+00  2.34199176e+00  2.38024265e+00  5.00737351e+00\n",
            "  5.10622060e+00  5.21670600e+00  5.05570022e+01]\n",
            "nelec by numeric integration = 10.000000059209853\n",
            "    CPU time for vxc     12.77 sec, wall time     12.69 sec\n",
            "E1 = -120.47787988520531  Ecoul = 43.95708489408068  Exc = -3.1861987490302095\n",
            "cycle= 5 E= -70.5187353224087  delta_E= -0.000142  |g|= 0.00456  |ddm|= 0.0329\n",
            "    CPU time for cycle= 5     12.85 sec, wall time     12.75 sec\n",
            "  HOMO = 0.0270449839624914  LUMO = 0.122497739806511\n",
            "  mo_energy =\n",
            "[-1.74557379e+01 -6.38071152e-01 -2.18557816e-01 -3.88860905e-02\n",
            "  2.70449840e-02  1.22497740e-01  1.96460971e-01  5.31972187e-01\n",
            "  5.72189953e-01  9.30799100e-01  9.38026761e-01  1.03504720e+00\n",
            "  1.34819428e+00  2.34154613e+00  2.37982863e+00  5.00657572e+00\n",
            "  5.10534837e+00  5.21586906e+00  5.05561872e+01]\n",
            "nelec by numeric integration = 10.000000059062005\n",
            "    CPU time for vxc     12.73 sec, wall time     12.66 sec\n",
            "E1 = -120.49304045535025  Ecoul = 43.97282038540682  Exc = -3.18677564976936\n",
            "cycle= 6 E= -70.5187373019667  delta_E= -1.98e-06  |g|= 0.000114  |ddm|= 0.00457\n",
            "    CPU time for cycle= 6     12.86 sec, wall time     12.74 sec\n",
            "  HOMO = 0.0270330139049136  LUMO = 0.122494957863255\n",
            "  mo_energy =\n",
            "[-1.74557514e+01 -6.38084377e-01 -2.18566158e-01 -3.88954164e-02\n",
            "  2.70330139e-02  1.22494958e-01  1.96458050e-01  5.31970638e-01\n",
            "  5.72189984e-01  9.30789451e-01  9.38016996e-01  1.03503573e+00\n",
            "  1.34818351e+00  2.34155167e+00  2.37983422e+00  5.00656568e+00\n",
            "  5.10533596e+00  5.21585372e+00  5.05561742e+01]\n",
            "nelec by numeric integration = 10.000000059065696\n",
            "    CPU time for vxc     12.69 sec, wall time     12.60 sec\n",
            "E1 = -120.49336216282443  Ecoul = 43.97315342987661  Exc = -3.186787031723044\n",
            "cycle= 7 E= -70.5187373469248  delta_E= -4.5e-08  |g|= 9.57e-06  |ddm|= 0.000104\n",
            "    CPU time for cycle= 7     12.73 sec, wall time     12.64 sec\n",
            "  HOMO = 0.0270288170993424  LUMO = 0.122494298123709\n",
            "  mo_energy =\n",
            "[-1.74557601e+01 -6.38088296e-01 -2.18569412e-01 -3.89005708e-02\n",
            "  2.70288171e-02  1.22494298e-01  1.96457214e-01  5.31968859e-01\n",
            "  5.72188744e-01  9.30786056e-01  9.38012989e-01  1.03503247e+00\n",
            "  1.34818038e+00  2.34155003e+00  2.37983269e+00  5.00655963e+00\n",
            "  5.10532938e+00  5.21584788e+00  5.05561657e+01]\n",
            "nelec by numeric integration = 10.000000059064853\n",
            "    CPU time for vxc     12.81 sec, wall time     13.09 sec\n",
            "E1 = -120.49347040209274  Ecoul = 43.973265880348066  Exc = -3.186791250745788\n",
            "Extra cycle  E= -70.5187373547443  delta_E= -7.82e-09  |g|= 2.4e-05  |ddm|= 3.07e-05\n",
            "    CPU time for scf_cycle    122.68 sec, wall time    131.62 sec\n",
            "    CPU time for SCF    122.71 sec, wall time    131.66 sec\n",
            "converged SCF energy = -70.5187373547443\n"
          ]
        },
        {
          "output_type": "execute_result",
          "data": {
            "text/plain": [
              "-70.51873735474435"
            ]
          },
          "metadata": {},
          "execution_count": 8
        }
      ],
      "source": [
        "import tensorflow as tf\n",
        "\n",
        "def nn_model(x_input, W1, b1, W2, b2):\n",
        "    x = tf.add(tf.matmul(tf.cast(x_input, tf.float32), W1), b1)\n",
        "    x = tf.nn.relu(x)\n",
        "    logits = tf.add(tf.matmul(x, W2), b2)\n",
        "    return logits\n",
        "\n",
        "#We are setting the perameters randomly. You should not expect to see any good results from this... \n",
        "#Also, the convergence may take forever. So... Be free to play with setting max cycles \n",
        "W1 = tf.random.normal([2, 10], stddev=0.01)\n",
        "b1 = tf.random.normal([10])\n",
        "W2 = tf.random.normal([10, 1], stddev=0.01)\n",
        "b2 = tf.random.normal([1])\n",
        "\n",
        "from pyscf import gto\n",
        "from pyscf import dft\n",
        "\n",
        "def eval_xc(xc_code, rho, spin, relativity=0, deriv=1, omega=None, verbose=None):\n",
        "    rho0, dx, dy, dz = rho[:4]\n",
        "    gamma = (dx**2 + dy**2 + dz**2)**.5\n",
        "\n",
        "    pbe_xc = dft.libxc.eval_xc('pbe,pbe', rho, spin, relativity, deriv, verbose)\n",
        "    exc = pbe_xc[0]\n",
        "    vrho = pbe_xc[1][0]\n",
        "    vgamma = pbe_xc[1][1]\n",
        "      \n",
        "    Fxc = [nn_model([[rho0[i],gamma[i]]],W1, b1, W2, b2).numpy()[0][0] for i in range(len(rho0))]\n",
        "    exc = Fxc * exc\n",
        "    vrho = Fxc * vrho\n",
        "    vgamma = Fxc * vgamma\n",
        "    vlapl = None\n",
        "    vtau = None\n",
        "    vxc = (vrho, vgamma, vlapl, vtau)\n",
        "    fxc = None \n",
        "    kxc = None \n",
        "    return exc, vxc, fxc, kxc\n",
        "\n",
        "mol = gto.M(\n",
        "    atom = '''\n",
        "    O  0.000   0.000   0.000\n",
        "    H  0.000  -0.757   0.587\n",
        "    H  0.000   0.757   0.587 ''',\n",
        "    basis = '6-311g')\n",
        "\n",
        "\n",
        "\n",
        "\n",
        "mf = dft.RKS(mol)\n",
        "mf = mf.define_xc_(eval_xc, 'GGA')\n",
        "mf.verbose = 5\n",
        "mf.conv_tol=1e-6\n",
        "mf.max_cycle = 50\n",
        "mf.kernel()\n"
      ]
    },
    {
      "cell_type": "markdown",
      "metadata": {
        "id": "r9WxuOppDkOv"
      },
      "source": [
        "\"Training\" is nothing more than an optimization of the parameters of our ANN to minimize the loss function. To do so, we must construct the loss function inside a proper function that can be passed to your optimization library of choice. In this case, some intricate casting and shaping arrangements probably will be used.\n",
        "\n",
        "I already did some \"hard\" work on training a very dummy functional on the Atomization Energy (AE) of water molecules only (a training set with a single molecule).  Here, we used $AE(H_2O)=E(H_2O)-E(H_2)-\\tfrac{1}{2}E(O_2)$. I performed a few non-gradient-based optimizations using PySwarms (https://pyswarms.readthedocs.io/en/latest/).\n",
        "\n",
        "Bellow, you can try to use some of those parameters (they are on the GitHub folder, maybe you will need to download and upload them to Colad by yourself...). To change between different sets, you can change \"h=np.load('param6.npy')\"."
      ]
    },
    {
      "cell_type": "code",
      "execution_count": 9,
      "metadata": {
        "colab": {
          "base_uri": "https://localhost:8080/"
        },
        "id": "NrtzFCQxDjtd",
        "outputId": "c62c3456-6ffc-4d18-c842-f521e2011bec"
      },
      "outputs": [
        {
          "output_type": "stream",
          "name": "stdout",
          "text": [
            "H2:\n",
            "  B3LYP:    -1.1698584016943374\n",
            "  PBE:      -1.1630432931119756\n",
            "  ANN-PBE:  -0.5595747577335773\n",
            "-------------------------------------------------\n",
            "O2:\n",
            "  B3LYP:    -150.1987222779079\n",
            "  PBE:      -150.120500758474\n",
            "  ANN-PBE:  -102.46050564567888\n",
            "-------------------------------------------------\n",
            "=================================================\n",
            "-------------------------------------------------\n"
          ]
        }
      ],
      "source": [
        "from pyscf import gto, scf, dft\n",
        "import tensorflow as tf\n",
        "import numpy as np\n",
        "\n",
        "\n",
        "def rolling(parameters): #This is here just to \"roll\" the vector stored on the parameter files to the correct shapes used on the ANN.\n",
        "\t###  w1\n",
        "\tstart=0\n",
        "\tend=start+2*10\n",
        "\tw1=parameters[start:end].reshape((2,10))\n",
        "\t###  b1\n",
        "\tstart=end\n",
        "\tend=start+10\n",
        "\tb1=parameters[start:end].reshape((10,))\n",
        "\t###  w2\n",
        "\tstart=end\n",
        "\tend=start+10*1\n",
        "\tw2=parameters[start:end].reshape((10,1))\n",
        "\t###  b2\n",
        "\tstart=end\n",
        "\tend=start+1\n",
        "\tb2=parameters[start:end].reshape((1,))\n",
        "\t\n",
        "\tif end != len(parameters):\n",
        "\t\tprint(\"Something is out of place... \")\n",
        "\t\tprint(\"end=\",end,\" but we expected it to be \", len(parameters))\n",
        "\t\texit()\n",
        "\t\n",
        "\treturn w1, b1, w2, b2\n",
        "\n",
        "def eval_xc(xc_code, rho, spin=0, relativity=0, deriv=1, omega=None, verbose=None):\n",
        "  rho0, dx, dy, dz = rho[:4]\n",
        "  gamma = (dx**2 + dy**2 + dz**2)**.5\n",
        "  G=[list(zip(rho0,gamma))]\n",
        "   \n",
        "  pbe_xc = dft.libxc.eval_xc('pbe,pbe', rho, spin, relativity, deriv, verbose)\n",
        "  exc = pbe_xc[0]\n",
        "  vrho = pbe_xc[1][0]\n",
        "  vgamma = pbe_xc[1][1]\n",
        "  \n",
        "  # LOADING THE SAVED PARAMETER!!!\n",
        "  h=np.load('param6.npy')\n",
        "  W1, b1, W2, b2 = rolling(h)\n",
        "\n",
        "  def nn_model(x_input, W1, b1, W2, b2):\n",
        "    log2=0.6931471805599453094172321214581765680755001343602552541206800094\n",
        "    x = tf.add(tf.matmul(tf.cast(x_input, tf.float32), W1), b1)\n",
        "    x = tf.nn.softplus(x)/log2\n",
        "    logits = tf.add(tf.matmul(x, W2), b2)\n",
        "    y = tf.nn.softplus(logits)/log2\n",
        "    return logits\n",
        "  fxc = nn_model(G, W1, b1, W2, b2).numpy()\n",
        "  exc = [fxc[0][i][0] * exc[i] for i in range(len(fxc[0]))]\n",
        "  vrho = [fxc[0][i][0] * vrho[i] for i in range(len(fxc[0]))]\n",
        "  vgamma = [fxc[0][i][0] * vgamma[i] for i in range(len(fxc[0]))]\n",
        "  vlapl = None\n",
        "  vtau = None\n",
        "  vxc = (vrho[0], vgamma[0], vlapl, vtau)\n",
        "\n",
        "  fxc = None  # 2nd order functional derivative\n",
        "  kxc = None  # 3rd order functional derivative\n",
        "  return exc, vxc, fxc, kxc\n",
        "\n",
        "\n",
        "\n",
        "# Computing H2 for AE\n",
        "mol = gto.M(\n",
        "    atom = '''\n",
        "    H        0.00000        0.00000   0.368583\n",
        "    H        0.00000        0.00000  -0.368583''',\n",
        "    basis = '6-311g')\n",
        "\n",
        "# We obtain the B3LYP value (reference) and density\n",
        "mf_mol = scf.RKS(mol)\n",
        "mf_mol.xc = 'B3LYP'\n",
        "mf_mol.verbose = 0\n",
        "mf_mol.max_cycle = 200\n",
        "mf_mol.init_guess = 'huckel'\n",
        "e_tot_reff=mf_mol.kernel()\n",
        "dmref = mf_mol.make_rdm1()\n",
        "\n",
        "# Compute total energy with trained functional for B3LYP density\n",
        "mf = dft.RKS(mol)\n",
        "mf = mf.define_xc_(eval_xc, 'GGA')\n",
        "mf.max_cycle = 0\n",
        "mf.verbose = 0\n",
        "e_tot_testf=mf.kernel(dm0=dmref)\n",
        "\n",
        "\n",
        "# Compute PBE total energy for B3LYP density\n",
        "mf = scf.RKS(mol)\n",
        "mf.xc = 'PBE'\n",
        "mf.verbose = 0\n",
        "mf.max_cycle = 0\n",
        "e_tot_PBE=mf.kernel(dm0=dmref)\n",
        "\n",
        "print(\"H2:\")\n",
        "print(\"  B3LYP:   \",e_tot_reff)\n",
        "e_tot_reff_H2=e_tot_reff*.5\n",
        "print(\"  PBE:     \",e_tot_PBE)\n",
        "e_tot_PBE_H2=e_tot_PBE*.5\n",
        "print(\"  ANN-PBE: \",e_tot_testf)\n",
        "e_tot_testf_H2=e_tot_testf*.5\n",
        "print(\"-------------------------------------------------\")\n",
        "\n",
        "## Computing O2 for AE\n",
        "mol = gto.M(\n",
        "    atom =''' \n",
        "            O        0.00000000       0.00000000       0.62297800\n",
        "            O        0.00000000       0.00000000      -0.62297800''',\n",
        "    basis = '6-311g')\n",
        "#B3LYP\n",
        "mf_mol = scf.RKS(mol)\n",
        "mf_mol.xc = 'B3LYP'\n",
        "mf_mol.verbose = 0\n",
        "mf_mol.max_cycle = 200\n",
        "mf_mol.init_guess = 'huckel'\n",
        "e_tot_reff=mf_mol.kernel()\n",
        "dmref = mf_mol.make_rdm1()\n",
        "#Trained functional\n",
        "mf = dft.RKS(mol)\n",
        "mf = mf.define_xc_(eval_xc, 'GGA')\n",
        "mf.max_cycle = 0\n",
        "mf.verbose = 0\n",
        "e_tot_testf=mf.kernel(dm0=dmref)\n",
        "#PBE\n",
        "mf = scf.RKS(mol)\n",
        "mf.xc = 'PBE'\n",
        "mf.verbose = 0\n",
        "mf.max_cycle = 0\n",
        "e_tot_PBE=mf.kernel(dm0=dmref)\n",
        "\n",
        "print(\"O2:\")\n",
        "print(\"  B3LYP:   \",e_tot_reff)\n",
        "e_tot_reff_O2=e_tot_reff*.5\n",
        "print(\"  PBE:     \",e_tot_PBE)\n",
        "e_tot_PBE_O2=e_tot_PBE*.5\n",
        "print(\"  ANN-PBE: \",e_tot_testf)\n",
        "e_tot_testf_O2=e_tot_testf*.5\n",
        "print(\"-------------------------------------------------\")\n",
        "print(\"=================================================\")\n",
        "print(\"-------------------------------------------------\")\n",
        "\n",
        "\n"
      ]
    },
    {
      "cell_type": "markdown",
      "source": [
        "Check those energies... They make any sence? Why the ones we predict are so far from the B3LYP and PBE ones? Is it un issue?"
      ],
      "metadata": {
        "id": "6ZpuGnv2DPNQ"
      }
    },
    {
      "cell_type": "code",
      "execution_count": 10,
      "metadata": {
        "colab": {
          "base_uri": "https://localhost:8080/"
        },
        "id": "hYB3UJ0QDa7X",
        "outputId": "c7b09475-1274-412d-e73d-3f83a6496dae"
      },
      "outputs": [
        {
          "output_type": "stream",
          "name": "stdout",
          "text": [
            "-------------------------------------------------\n",
            "H2O (loss function):\n",
            " Err.ANN: 0.0020647629114378674\n",
            " Err.PBE: 0.0042298718946653935\n",
            "-------------------------------------------------\n",
            "-------------------------------------------------\n",
            "-------------------------------------------------\n",
            "H2O2:\n",
            " Err.ANN: 6.440050377420903e-05\n",
            " Err.PBE: 0.0023728145385462085\n",
            "-------------------------------------------------\n",
            "-------------------------------------------------\n",
            "O3:\n",
            " Err.ANN: 0.03101657640661415\n",
            " Err.PBE: 0.021543422605873275\n",
            "-------------------------------------------------\n"
          ]
        }
      ],
      "source": [
        "# Error in H2O Atomization Energies (the one used for training)\n",
        "mol = gto.M(\n",
        "    atom = '''\n",
        "        O  0.000   0.000   0.000\n",
        "        H  0.000  -0.757   0.587\n",
        "        H  0.000   0.757   0.587 ''',\n",
        "    basis = '6-311g')\n",
        "\n",
        "mf_mol = scf.RKS(mol)\n",
        "mf_mol.xc = 'B3LYP'\n",
        "mf_mol.verbose = 0\n",
        "mf_mol.max_cycle = 200\n",
        "mf_mol.init_guess = 'huckel'\n",
        "e_tot_reff=mf_mol.kernel()\n",
        "dmref = mf_mol.make_rdm1()\n",
        "\n",
        "mf = dft.RKS(mol)\n",
        "mf = mf.define_xc_(eval_xc, 'GGA')\n",
        "mf.max_cycle = 0\n",
        "mf.verbose = 0\n",
        "e_tot_testf=mf.kernel(dm0=dmref)\n",
        "\n",
        "mf = scf.RKS(mol)\n",
        "mf.xc = 'PBE'\n",
        "mf.verbose = 0\n",
        "mf.max_cycle = 0\n",
        "e_tot_PBE=mf.kernel(dm0=dmref)\n",
        "\n",
        "print(\"-------------------------------------------------\")\n",
        "deltaE=abs((e_tot_reff-2.0*e_tot_reff_H2-e_tot_reff_O2)-(e_tot_testf-2.0*e_tot_testf_H2-e_tot_testf_O2))\n",
        "deltaEPBE=abs((e_tot_reff-2.0*e_tot_reff_H2-e_tot_reff_O2)-(e_tot_PBE-2.0*e_tot_PBE_H2-e_tot_PBE_O2))\n",
        "print(\"H2O (loss function):\")\n",
        "print(\" Err.ANN:\",deltaE)\n",
        "print(\" Err.PBE:\",deltaEPBE)\n",
        "print(\"-------------------------------------------------\")\n",
        "print(\"-------------------------------------------------\")\n",
        "\n",
        "\n",
        "# Error on AE for H2O2\n",
        "mol = gto.M(\n",
        "    atom = '''\n",
        "    O        0.00000000       0.73405800      -0.05275000\n",
        "    O        0.00000000      -0.73405800      -0.05275000\n",
        "    H        0.83954700       0.88075200       0.42200100\n",
        "    H       -0.83954700      -0.88075200       0.42200100''',\n",
        "    basis = '6-311g')\n",
        "\n",
        "mf_mol = scf.RKS(mol)\n",
        "mf_mol.xc = 'B3LYP'\n",
        "mf_mol.verbose = 0\n",
        "mf_mol.max_cycle = 200\n",
        "mf_mol.init_guess = 'huckel'\n",
        "e_tot_reff=mf_mol.kernel()\n",
        "dmref = mf_mol.make_rdm1()\n",
        "\n",
        "mf = dft.RKS(mol)\n",
        "mf = mf.define_xc_(eval_xc, 'GGA')\n",
        "mf.max_cycle = 0\n",
        "mf.verbose = 0\n",
        "e_tot_testf=mf.kernel(dm0=dmref)\n",
        "\n",
        "mf = scf.RKS(mol)\n",
        "mf.xc = 'PBE'\n",
        "mf.verbose = 0\n",
        "mf.max_cycle = 0\n",
        "e_tot_PBE=mf.kernel(dm0=dmref)\n",
        "\n",
        "print(\"-------------------------------------------------\")\n",
        "deltaE=abs((e_tot_reff-2.0*e_tot_reff_H2-2.0*e_tot_reff_O2)-(e_tot_testf-2.0*e_tot_testf_H2-2.0*e_tot_testf_O2))\n",
        "deltaEPBE=abs((e_tot_reff-2.0*e_tot_reff_H2-2.0*e_tot_reff_O2)-(e_tot_PBE-2.0*e_tot_PBE_H2-2.0*e_tot_PBE_O2))\n",
        "print(\"H2O2:\")\n",
        "print(\" Err.ANN:\",deltaE)\n",
        "print(\" Err.PBE:\",deltaEPBE)\n",
        "print(\"-------------------------------------------------\")\n",
        "\n",
        "\n",
        "\n",
        "# Error on AE for ozone (O3)\n",
        "mol = gto.M(\n",
        "    atom = '''\n",
        "    O        0.00000        1.10381  -0.228542\n",
        "    O        0.00000        0.00000   0.457084\n",
        "    O        0.00000       -1.10381  -0.228542''',\n",
        "    basis = '6-311g')\n",
        "\n",
        "mf_mol = scf.RKS(mol)\n",
        "mf_mol.xc = 'B3LYP'\n",
        "mf_mol.verbose = 0\n",
        "mf_mol.max_cycle = 200\n",
        "mf_mol.init_guess = 'huckel'\n",
        "e_tot_reff=mf_mol.kernel()\n",
        "dmref = mf_mol.make_rdm1()\n",
        "\n",
        "mf = dft.RKS(mol)\n",
        "mf = mf.define_xc_(eval_xc, 'GGA')\n",
        "mf.max_cycle = 0\n",
        "mf.verbose = 0\n",
        "e_tot_testf=mf.kernel(dm0=dmref)\n",
        "\n",
        "#PBE \n",
        "mf = scf.RKS(mol)\n",
        "mf.xc = 'PBE'\n",
        "mf.verbose = 0\n",
        "mf.max_cycle = 0\n",
        "e_tot_PBE=mf.kernel(dm0=dmref)\n",
        "\n",
        "print(\"-------------------------------------------------\")\n",
        "deltaE=abs((e_tot_reff-3.0*e_tot_reff_O2)-(e_tot_testf-3.0*e_tot_testf_O2))\n",
        "deltaEPBE=abs((e_tot_reff-3.0*e_tot_reff_O2)-(e_tot_PBE-3.0*e_tot_PBE_O2))\n",
        "print(\"O3:\")\n",
        "print(\" Err.ANN:\",deltaE)\n",
        "print(\" Err.PBE:\",deltaEPBE)\n",
        "print(\"-------------------------------------------------\")\n",
        "\n",
        "\n"
      ]
    },
    {
      "cell_type": "markdown",
      "source": [
        "What molecules are predicted in a correct why and what are none? In wich ones we improved over PBE?"
      ],
      "metadata": {
        "id": "modUpKMGDswu"
      }
    },
    {
      "cell_type": "markdown",
      "source": [
        "\n",
        "\n",
        "---\n",
        "\n",
        "#Some things that you can try for yourself:\n",
        "\n",
        "\n",
        "\n",
        "1. Instead of correcting PBE, why not a Meta-GGA? Think on how the code needs to change.\n",
        "2. Check those parameters for self-consistent calculations. (SPOILER: They are bad. Maybe one can optimaze everything using self-consistent energies... Maybe it can be you, in case you do the next suggestions.)\n",
        "3.   Implement the atomization energy of a small set of molecules as a function of the parameters (as a callable object). Maybe the structures can come from ase.collections (https://wiki.fysik.dtu.dk/ase/ase/collections.html#ase.collections.g2)\n",
        "4.   Send this loss function to a non-gradient-based optimization library and create your own functional. \n",
        "5.   Automate the validation for a set of molecules that extend on your training. \n",
        "\n"
      ],
      "metadata": {
        "id": "avzMlkm_EFsv"
      }
    },
    {
      "cell_type": "code",
      "source": [
        "#..."
      ],
      "metadata": {
        "id": "dz-ji60OEAIp"
      },
      "execution_count": 11,
      "outputs": []
    }
  ],
  "metadata": {
    "colab": {
      "provenance": [],
      "include_colab_link": true
    },
    "kernelspec": {
      "display_name": "Python 3",
      "language": "python",
      "name": "python3"
    },
    "language_info": {
      "codemirror_mode": {
        "name": "ipython",
        "version": 3
      },
      "file_extension": ".py",
      "mimetype": "text/x-python",
      "name": "python",
      "nbconvert_exporter": "python",
      "pygments_lexer": "ipython3",
      "version": "3.8.10"
    }
  },
  "nbformat": 4,
  "nbformat_minor": 0
}